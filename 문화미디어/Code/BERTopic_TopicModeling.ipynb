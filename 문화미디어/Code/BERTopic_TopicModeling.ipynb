{
 "cells": [
  {
   "cell_type": "markdown",
   "id": "8577e321",
   "metadata": {},
   "source": [
    "# BERTopic 토픽 모델링"
   ]
  },
  {
   "cell_type": "code",
   "execution_count": null,
   "id": "1cc25a72",
   "metadata": {},
   "outputs": [],
   "source": [
    "!pip install bertopic\n",
    "!pip install sentence-transformers\n",
    "!pip install konlpy\n"
   ]
  },
  {
   "cell_type": "markdown",
   "id": "6a10c2a4",
   "metadata": {},
   "source": [
    "## 1. 기사 데이터 불러오기"
   ]
  },
  {
   "cell_type": "code",
   "execution_count": null,
   "id": "965e2bd4",
   "metadata": {},
   "outputs": [],
   "source": [
    "import pandas as pd\n",
    "\n",
    "# Google Drive 마운트 (필요시)\n",
    "from google.colab import drive\n",
    "drive.mount('/content/drive')\n",
    "\n",
    "# 엑셀 파일 경로 지정\n",
    "df = pd.read_excel(\"/content/drive/MyDrive/중앙일보_토픽결과.xlsx\")\n",
    "docs = df[\"본문\"].astype(str).tolist()\n",
    "df.shape\n"
   ]
  },
  {
   "cell_type": "markdown",
   "id": "2d12e894",
   "metadata": {},
   "source": [
    "## 2. 임베딩 모델 로딩 (한국어 SBERT 계열)"
   ]
  },
  {
   "cell_type": "code",
   "execution_count": null,
   "id": "55deed1a",
   "metadata": {},
   "outputs": [],
   "source": [
    "from sentence_transformers import SentenceTransformer\n",
    "embedding_model = SentenceTransformer(\"snunlp/KR-SBERT-V40K-klueNLI-augSTS\")\n"
   ]
  },
  {
   "cell_type": "markdown",
   "id": "156d9507",
   "metadata": {},
   "source": [
    "## 3. BERTopic 학습 및 토픽 예측"
   ]
  },
  {
   "cell_type": "code",
   "execution_count": null,
   "id": "94eecf1e",
   "metadata": {},
   "outputs": [],
   "source": [
    "from bertopic import BERTopic\n",
    "topic_model = BERTopic(embedding_model=embedding_model, language=\"multilingual\")\n",
    "topics, probs = topic_model.fit_transform(docs)\n"
   ]
  },
  {
   "cell_type": "markdown",
   "id": "9c8e6c16",
   "metadata": {},
   "source": [
    "## 4. 토픽 키워드 추출 및 기사에 붙이기"
   ]
  },
  {
   "cell_type": "code",
   "execution_count": null,
   "id": "c2568a80",
   "metadata": {},
   "outputs": [],
   "source": [
    "topic_info = topic_model.get_topic_info()\n",
    "topic_keywords = {\n",
    "    row[\"Topic\"]: \", \".join([word for word, _ in topic_model.get_topic(row[\"Topic\"])])\n",
    "    for _, row in topic_info.iterrows() if row[\"Topic\"] != -1\n",
    "}\n",
    "\n",
    "df[\"토픽 번호\"] = topics\n",
    "df[\"토픽 키워드\"] = df[\"토픽 번호\"].map(topic_keywords).fillna(\"할당되지 않음\")\n",
    "df[[\"본문\", \"토픽 번호\", \"토픽 키워드\"]].head()\n"
   ]
  },
  {
   "cell_type": "markdown",
   "id": "f85d8d81",
   "metadata": {},
   "source": [
    "## 5. 결과 저장"
   ]
  },
  {
   "cell_type": "code",
   "execution_count": null,
   "id": "dbb3bc12",
   "metadata": {},
   "outputs": [],
   "source": [
    "output_path = \"/content/drive/MyDrive/중앙일보_최종토픽.xlsx\"\n",
    "df.to_excel(output_path, index=False)\n",
    "print(\"✅ 저장 완료:\", output_path)\n"
   ]
  }
 ],
 "metadata": {
  "language_info": {
   "name": "python"
  }
 },
 "nbformat": 4,
 "nbformat_minor": 5
}
