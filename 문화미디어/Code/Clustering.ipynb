{
  "nbformat": 4,
  "nbformat_minor": 0,
  "metadata": {
    "colab": {
      "provenance": [],
      "collapsed_sections": [
        "98Tpe68m657E",
        "ma1Mxg2ln0af",
        "ccwazSYBaAIX",
        "ruNi9fKJaF4W",
        "MRuORkFbaKr4",
        "KSVbE0wKdTP7",
        "ej9J0k0GvNaa"
      ]
    },
    "kernelspec": {
      "name": "python3",
      "display_name": "Python 3"
    },
    "language_info": {
      "name": "python"
    }
  },
  "cells": [
    {
      "cell_type": "code",
      "execution_count": null,
      "metadata": {
        "colab": {
          "base_uri": "https://localhost:8080/"
        },
        "id": "fj6pKplB5iEK",
        "outputId": "3c9714d9-1478-409f-d80d-d337b93b9254"
      },
      "outputs": [
        {
          "output_type": "stream",
          "name": "stdout",
          "text": [
            "Mounted at /content/drive\n"
          ]
        }
      ],
      "source": [
        "from google.colab import drive\n",
        "drive.mount('/content/drive')"
      ]
    },
    {
      "cell_type": "code",
      "source": [
        "! pip install konlpy\n",
        "!apt-get -qq -y install fonts-nanum > /dev/null\n",
        "!rm -rf ~/.cache/matplotlib"
      ],
      "metadata": {
        "colab": {
          "base_uri": "https://localhost:8080/"
        },
        "collapsed": true,
        "id": "H7YgRfJUYkPg",
        "outputId": "556ef565-c108-49a2-ed85-bb86ff429b97"
      },
      "execution_count": null,
      "outputs": [
        {
          "output_type": "stream",
          "name": "stdout",
          "text": [
            "Collecting konlpy\n",
            "  Downloading konlpy-0.6.0-py2.py3-none-any.whl.metadata (1.9 kB)\n",
            "Collecting JPype1>=0.7.0 (from konlpy)\n",
            "  Downloading jpype1-1.6.0-cp311-cp311-manylinux2014_x86_64.manylinux_2_17_x86_64.whl.metadata (5.0 kB)\n",
            "Requirement already satisfied: lxml>=4.1.0 in /usr/local/lib/python3.11/dist-packages (from konlpy) (5.4.0)\n",
            "Requirement already satisfied: numpy>=1.6 in /usr/local/lib/python3.11/dist-packages (from konlpy) (2.0.2)\n",
            "Requirement already satisfied: packaging in /usr/local/lib/python3.11/dist-packages (from JPype1>=0.7.0->konlpy) (25.0)\n",
            "Downloading konlpy-0.6.0-py2.py3-none-any.whl (19.4 MB)\n",
            "\u001b[2K   \u001b[90m━━━━━━━━━━━━━━━━━━━━━━━━━━━━━━━━━━━━━━━━\u001b[0m \u001b[32m19.4/19.4 MB\u001b[0m \u001b[31m53.6 MB/s\u001b[0m eta \u001b[36m0:00:00\u001b[0m\n",
            "\u001b[?25hDownloading jpype1-1.6.0-cp311-cp311-manylinux2014_x86_64.manylinux_2_17_x86_64.whl (496 kB)\n",
            "\u001b[2K   \u001b[90m━━━━━━━━━━━━━━━━━━━━━━━━━━━━━━━━━━━━━━━━\u001b[0m \u001b[32m496.6/496.6 kB\u001b[0m \u001b[31m20.5 MB/s\u001b[0m eta \u001b[36m0:00:00\u001b[0m\n",
            "\u001b[?25hInstalling collected packages: JPype1, konlpy\n",
            "Successfully installed JPype1-1.6.0 konlpy-0.6.0\n"
          ]
        }
      ]
    },
    {
      "cell_type": "code",
      "source": [
        "import matplotlib as mpl\n",
        "import matplotlib.pyplot as plt\n",
        "import matplotlib.font_manager as fm\n",
        "\n",
        "# 설치된 폰트 경로 확인\n",
        "!fc-list :lang=ko | grep Nanum\n",
        "\n",
        "# 폰트 설정\n",
        "font_path = '/usr/share/fonts/truetype/nanum/NanumGothic.ttf'\n",
        "fontprop = fm.FontProperties(fname=font_path)\n",
        "mpl.rcParams['font.family'] = fontprop.get_name()\n",
        "mpl.rcParams['axes.unicode_minus'] = False\n",
        "\n",
        "# 테스트\n",
        "plt.figure()\n",
        "plt.title(\"후쿠시마 언론사 테스트\", fontproperties=fontprop)\n",
        "plt.plot([1,2,3])\n",
        "plt.show()"
      ],
      "metadata": {
        "colab": {
          "base_uri": "https://localhost:8080/",
          "height": 1000
        },
        "collapsed": true,
        "id": "c0EH07bISv9o",
        "outputId": "fc6c033a-db10-4b67-eb89-0af8c5c1c9ed"
      },
      "execution_count": null,
      "outputs": [
        {
          "output_type": "stream",
          "name": "stdout",
          "text": [
            "/usr/share/fonts/truetype/nanum/NanumSquareRoundB.ttf: NanumSquareRound,나눔스퀘어라운드,NanumSquareRound Bold,나눔스퀘어라운드 Bold:style=Bold,Regular\n",
            "/usr/share/fonts/truetype/nanum/NanumGothicCodingBold.ttf: NanumGothicCoding,나눔고딕코딩:style=Bold\n",
            "/usr/share/fonts/truetype/nanum/NanumSquareRoundR.ttf: NanumSquareRound,나눔스퀘어라운드,NanumSquareRound Regular,나눔스퀘어라운드 Regular:style=Regular\n",
            "/usr/share/fonts/truetype/nanum/NanumSquareB.ttf: NanumSquare,나눔스퀘어,NanumSquare Bold,나눔스퀘어 Bold:style=Bold\n",
            "/usr/share/fonts/truetype/nanum/NanumBarunGothic.ttf: NanumBarunGothic,나눔바른고딕:style=Regular\n",
            "/usr/share/fonts/truetype/nanum/NanumGothic.ttf: NanumGothic,나눔고딕:style=Regular\n",
            "/usr/share/fonts/truetype/nanum/NanumGothicCoding.ttf: NanumGothicCoding,나눔고딕코딩:style=Regular\n",
            "/usr/share/fonts/truetype/nanum/NanumBarunGothicBold.ttf: NanumBarunGothic,나눔바른고딕:style=Bold\n",
            "/usr/share/fonts/truetype/nanum/NanumGothicBold.ttf: NanumGothic,나눔고딕:style=Bold\n",
            "/usr/share/fonts/truetype/nanum/NanumSquareR.ttf: NanumSquare,나눔스퀘어:style=Regular\n",
            "/usr/share/fonts/truetype/nanum/NanumMyeongjo.ttf: NanumMyeongjo,나눔명조:style=Regular\n",
            "/usr/share/fonts/truetype/nanum/NanumMyeongjoBold.ttf: NanumMyeongjo,나눔명조:style=Bold\n"
          ]
        },
        {
          "output_type": "stream",
          "name": "stderr",
          "text": [
            "WARNING:matplotlib.font_manager:findfont: Font family 'NanumGothic' not found.\n",
            "WARNING:matplotlib.font_manager:findfont: Font family 'NanumGothic' not found.\n",
            "WARNING:matplotlib.font_manager:findfont: Font family 'NanumGothic' not found.\n",
            "WARNING:matplotlib.font_manager:findfont: Font family 'NanumGothic' not found.\n",
            "WARNING:matplotlib.font_manager:findfont: Font family 'NanumGothic' not found.\n",
            "WARNING:matplotlib.font_manager:findfont: Font family 'NanumGothic' not found.\n",
            "WARNING:matplotlib.font_manager:findfont: Font family 'NanumGothic' not found.\n",
            "WARNING:matplotlib.font_manager:findfont: Font family 'NanumGothic' not found.\n",
            "WARNING:matplotlib.font_manager:findfont: Font family 'NanumGothic' not found.\n",
            "WARNING:matplotlib.font_manager:findfont: Font family 'NanumGothic' not found.\n",
            "WARNING:matplotlib.font_manager:findfont: Font family 'NanumGothic' not found.\n",
            "WARNING:matplotlib.font_manager:findfont: Font family 'NanumGothic' not found.\n",
            "WARNING:matplotlib.font_manager:findfont: Font family 'NanumGothic' not found.\n",
            "WARNING:matplotlib.font_manager:findfont: Font family 'NanumGothic' not found.\n",
            "WARNING:matplotlib.font_manager:findfont: Font family 'NanumGothic' not found.\n",
            "WARNING:matplotlib.font_manager:findfont: Font family 'NanumGothic' not found.\n",
            "WARNING:matplotlib.font_manager:findfont: Font family 'NanumGothic' not found.\n",
            "WARNING:matplotlib.font_manager:findfont: Font family 'NanumGothic' not found.\n",
            "WARNING:matplotlib.font_manager:findfont: Font family 'NanumGothic' not found.\n",
            "WARNING:matplotlib.font_manager:findfont: Font family 'NanumGothic' not found.\n",
            "WARNING:matplotlib.font_manager:findfont: Font family 'NanumGothic' not found.\n",
            "WARNING:matplotlib.font_manager:findfont: Font family 'NanumGothic' not found.\n",
            "WARNING:matplotlib.font_manager:findfont: Font family 'NanumGothic' not found.\n",
            "WARNING:matplotlib.font_manager:findfont: Font family 'NanumGothic' not found.\n",
            "WARNING:matplotlib.font_manager:findfont: Font family 'NanumGothic' not found.\n",
            "WARNING:matplotlib.font_manager:findfont: Font family 'NanumGothic' not found.\n",
            "WARNING:matplotlib.font_manager:findfont: Font family 'NanumGothic' not found.\n",
            "WARNING:matplotlib.font_manager:findfont: Font family 'NanumGothic' not found.\n",
            "WARNING:matplotlib.font_manager:findfont: Font family 'NanumGothic' not found.\n",
            "WARNING:matplotlib.font_manager:findfont: Font family 'NanumGothic' not found.\n",
            "WARNING:matplotlib.font_manager:findfont: Font family 'NanumGothic' not found.\n",
            "WARNING:matplotlib.font_manager:findfont: Font family 'NanumGothic' not found.\n",
            "WARNING:matplotlib.font_manager:findfont: Font family 'NanumGothic' not found.\n",
            "WARNING:matplotlib.font_manager:findfont: Font family 'NanumGothic' not found.\n",
            "WARNING:matplotlib.font_manager:findfont: Font family 'NanumGothic' not found.\n",
            "WARNING:matplotlib.font_manager:findfont: Font family 'NanumGothic' not found.\n",
            "WARNING:matplotlib.font_manager:findfont: Font family 'NanumGothic' not found.\n",
            "WARNING:matplotlib.font_manager:findfont: Font family 'NanumGothic' not found.\n",
            "WARNING:matplotlib.font_manager:findfont: Font family 'NanumGothic' not found.\n",
            "WARNING:matplotlib.font_manager:findfont: Font family 'NanumGothic' not found.\n",
            "WARNING:matplotlib.font_manager:findfont: Font family 'NanumGothic' not found.\n",
            "WARNING:matplotlib.font_manager:findfont: Font family 'NanumGothic' not found.\n",
            "WARNING:matplotlib.font_manager:findfont: Font family 'NanumGothic' not found.\n",
            "WARNING:matplotlib.font_manager:findfont: Font family 'NanumGothic' not found.\n",
            "WARNING:matplotlib.font_manager:findfont: Font family 'NanumGothic' not found.\n",
            "WARNING:matplotlib.font_manager:findfont: Font family 'NanumGothic' not found.\n"
          ]
        },
        {
          "output_type": "display_data",
          "data": {
            "text/plain": [
              "<Figure size 640x480 with 1 Axes>"
            ],
            "image/png": "[encoded data removed]"
          },
          "metadata": {}
        }
      ]
    },
    {
      "cell_type": "markdown",
      "source": [
        "### 전처리"
      ],
      "metadata": {
        "id": "98Tpe68m657E"
      }
    },
    {
      "cell_type": "code",
      "source": [
        "import pandas as pd\n",
        "import ast\n",
        "import glob\n",
        "\n",
        "# 1. 경로 설정\n",
        "path = \"/content/drive/MyDrive/후쿠시마/입장결과\"  # 네 경로\n",
        "files = glob.glob(f\"{path}/*.xlsx\")  # 폴더 안의 모든 xlsx 파일\n",
        "\n",
        "all_categories = set()  # 전체 감정 카테고리 저장\n",
        "\n",
        "for file in files:\n",
        "    df = pd.read_excel(file)\n",
        "\n",
        "    if '감성점수' not in df.columns:\n",
        "        print(f\"⚠️ {file}에 '감성점수' 열 없음\")\n",
        "        continue\n",
        "\n",
        "    # 문자열 -> 리스트 변환\n",
        "    df['감정리스트'] = df['감성점수'].apply(lambda x: ast.literal_eval(x) if pd.notnull(x) else [])\n",
        "\n",
        "    # 리스트 -> dict 변환\n",
        "    df['감정dict'] = df['감정리스트'].apply(lambda x: dict(x))\n",
        "\n",
        "    # 전체 감정 카테고리 갱신\n",
        "    for d in df['감정dict']:\n",
        "        all_categories.update(d.keys())\n",
        "\n",
        "print(\"전체 감정 카테고리:\", sorted(all_categories))\n",
        "print(\"총 카테고리 수:\", len(all_categories))"
      ],
      "metadata": {
        "colab": {
          "base_uri": "https://localhost:8080/"
        },
        "id": "jAmLQF4ll7oL",
        "outputId": "f264c9c5-825f-4709-d447-7289e35499d5"
      },
      "execution_count": null,
      "outputs": [
        {
          "output_type": "stream",
          "name": "stdout",
          "text": [
            "전체 감정 카테고리: ['걱정스러운(불안한)', '고마운', '기쁨(행복한)', '사랑하는', '생각이 많은', '설레는(기대하는)', '슬픔(우울한)', '일상적인', '즐거운(신나는)', '짜증남', '힘듦(지침)']\n",
            "총 카테고리 수: 11\n"
          ]
        }
      ]
    },
    {
      "cell_type": "code",
      "source": [
        "import pandas as pd\n",
        "import glob\n",
        "\n",
        "path = \"/content/drive/MyDrive/후쿠시마/입장결과\"\n",
        "files = glob.glob(f\"{path}/*.xlsx\")\n",
        "\n",
        "stance_counts = {}\n",
        "\n",
        "main_labels = ['찬성', '중립', '반대']  # 주요 라벨\n",
        "\n",
        "for file in files:\n",
        "    media_name = file.split('/')[-1].replace('.xlsx','')\n",
        "    df = pd.read_excel(file)\n",
        "\n",
        "    if '입장결과' not in df.columns:\n",
        "        print(f\"⚠️ {media_name}: '입장결과' 열 없음, 건너뜀\")\n",
        "        continue\n",
        "\n",
        "    counts = df['입장결과'].value_counts()\n",
        "\n",
        "    # 주요 라벨과 기타 분리\n",
        "    counts_dict = {label: 0 for label in main_labels + ['기타']}\n",
        "    for label, cnt in counts.items():\n",
        "        if label in main_labels:\n",
        "            counts_dict[label] += cnt\n",
        "        else:\n",
        "            counts_dict['기타'] += cnt\n",
        "\n",
        "    stance_counts[media_name] = counts_dict\n",
        "\n",
        "# DataFrame으로 변환\n",
        "stance_df = pd.DataFrame(stance_counts).T.fillna(0).astype(int)\n",
        "stance_df = stance_df[main_labels + ['기타']]  # 열 순서 정리\n",
        "\n",
        "print(\"언론사별 입장 결과 집계 (기타 포함)\")\n",
        "print(stance_df)"
      ],
      "metadata": {
        "colab": {
          "base_uri": "https://localhost:8080/"
        },
        "id": "5hXa19M0oPZC",
        "outputId": "d36b82fa-7dc2-4693-f121-1a8c2e7e1c1a"
      },
      "execution_count": null,
      "outputs": [
        {
          "output_type": "stream",
          "name": "stdout",
          "text": [
            "언론사별 입장 결과 집계 (기타 포함)\n",
            "                        찬성   중립   반대  기타\n",
            "내일신문_스탠스    266   52   34   8\n",
            "문화일보_스탠스     823  121   79  31\n",
            "국민일보_스탠스   1168  163  126  35\n",
            "동아일보_스탠스     842  115   83  12\n",
            "아시아투데이_스탠스   926  232  134  43\n",
            "한국일보_스탠스    887  143  107  28\n",
            "경향신문_스탠스  1742  246  247  31\n",
            "중앙일보_스탠스   1726  203  163  49\n",
            "조선일보_스탠스    1149  150  112  28\n",
            "한겨레_스탠스       1101  206  156  32\n",
            "세계일보_스탠스     2455  336  280  58\n",
            "서울신문_스탠스   1412  279  150  54\n"
          ]
        }
      ]
    },
    {
      "cell_type": "markdown",
      "source": [
        "정부의 에너지 전환 정책에 대해 중립적인 입장을 취하고 있습니다. -> 중립\n",
        "긍정적인 입장 -> 찬성\n",
        "찬 -> 찬성\n",
        "중 -> 중립\n",
        "후쿠시마산 수산물에 국내 수입 금지. -> 반대\n",
        "기사의 비판적 톤과 이재명 대표에 대한 부정적 평가를 반영하여 반대 입장을 취합니다. 기사가 이재명 -> 반대\n",
        "중국은 후쿠시마 오염수 방류에 반대하며 일본산 수산물에 대한 수입 규제를 강화 -> 반대\n",
        "찬성의 입장 -> 찬성\n",
        "홍콩과 중국은 오염수 방류에 대한 일본 정부의 대응에 대해 비판하며, 식품 안전과 국제적 공의에 -> 반대\n",
        "[찬성 -> 찬성\n",
        "기사의 내용은 일본 정부가 대지진에 대한 교훈을 제대로 활용하지 못하고 있다는 것을 비판하고 있지만, 이는 일본의 일반적인 사회적 특성을 반영하는 것으로 보입니다. 따라서, 기사의 입장도 중립적이라고 판단할 수 있습니다. -> 중립\n",
        "중립 / 50자 이내 요약: 중국은 일본 오염수 방류에 대해 지속적으로 비난하며 예방조치 및 식품 안전 강조. -> 중립\n",
        " 일본 정부의 오염수 방류 결정에 대해 중립적인 입장. -> 중립\n",
        " 일본 오염수 방류 반대 -> 반대\n",
        " [반대] -> 반대\n",
        " 찬성 요약: 미국 부통령의 한국 정치에의 영향력 확대 주장 -> 찬성\n",
        " 찬성 요약: 한국자유총연맹, 정치적 중립 조항 삭제하고 활동 확대.assistant -> 찬성\n",
        " 지지 -> 찬성\n",
        " 찬성 / 요약: 정부는 후쿠시마 오염수 문제에 대해 국제기준에 부합하는 안전성을 강조하며 대응하고 있음.assistant -> 찬성\n",
        " 반대를 -> 반대\n",
        " [중립] -> 중립\n",
        " 회의 -> 반대\n",
        " 비판 -> 반대\n",
        " 비판적 -> 반대\n",
        " 일본 오염수 방류에 반대 -> 반대\n",
        " 찬성 / 반대 / 중립 중에서 선택: 중립 -> 중립\n",
        "이것은 반대입니다. -> 반대\n",
        " 적성 분석: 이 기사는 인공지능 개발과 관련된 국가의 통제에 대해 논하고 있습니다. 주요 주제는 인공지능 기술의 발전이 인간의 권리를 침해할 수 있는 가능성과 이를 방지하기 위한 국가의 역할입니다. 감정 상태: 기사의 전반적인 톤은 중립적이며, 인공지능 개발과 관련된 통제의 필요성에 대한 이해를 바탕으로 한 논리적 주장을 제시하고 있습니다. 이 기사는 인공지능의 발전이 가져올 수 있는 잠재적인 문제점들을 인식하고, 이를 해결하기 위한 국가의 역할을 강조하고 있습니다. 따라서, 이 기사는 독자들에게 인공지능 개발에 있어 국가의 통제가 필요하다는 메시지를 전달하고 있습니다. 결론: 결론적으로, 이 기사는 인공지능 기술의 발전이 인간의 권리를 침해할 수 있는 가능성을 인식하고, 이를 방지하기 위해 국가의 적극적인 역할을 강조합니다. 따라서, 인공지능 개발에 있어 국가의 통제와 윤리적 기준 마련이 필수적임을 시사하고 있습니다. 이 기사는 인공지능 기술의 발전과 관련된 중요한 논의를 제시하고 -> 중립\n",
        " 회의적 -> 반대"
      ],
      "metadata": {
        "id": "amKjRilcAk6V"
      }
    },
    {
      "cell_type": "code",
      "source": [
        "import pandas as pd\n",
        "import re\n",
        "import glob\n",
        "import os\n",
        "\n",
        "# 1. 경로 설정\n",
        "input_path = \"/content/drive/MyDrive/후쿠시마/입장결과\"\n",
        "output_path = \"/content/drive/MyDrive/후쿠시마/전처리완료\"\n",
        "os.makedirs(output_path, exist_ok=True)\n",
        "\n",
        "files = glob.glob(f\"{input_path}/*.xlsx\")\n",
        "\n",
        "# 2. 라벨 분류 함수\n",
        "def classify_stance(text):\n",
        "    if pd.isna(text):\n",
        "        return None\n",
        "    t = str(text).strip()\n",
        "\n",
        "    # 혼합형 (3라벨 모두 언급) → 삭제\n",
        "    if all(word in t for word in ['찬성','반대','중립']):\n",
        "        return None\n",
        "\n",
        "    # 명시적 매핑\n",
        "    if t in ['찬성', '찬', '지지', '찬성의 입장', '[찬성', '긍정적인 입장']:\n",
        "        return '찬성'\n",
        "    if t in ['중립', '중', '[중립']:\n",
        "        return '중립'\n",
        "    if t in ['반대', '[반대]', '반대를', '회의', '회의적', '비판', '비판적']:\n",
        "        return '반대'\n",
        "\n",
        "    # 문장 패턴 매핑\n",
        "    if re.search(r'수입 금지|규제 강화|방류.*반대|비판|회의', t):\n",
        "        return '반대'\n",
        "    if re.search(r'찬성|지지|긍정적', t):\n",
        "        return '찬성'\n",
        "    if re.search(r'중립|중립적', t):\n",
        "        return '중립'\n",
        "\n",
        "    return None\n",
        "\n",
        "# 3. 파일 일괄 처리\n",
        "for file in files:\n",
        "    media_name = os.path.basename(file).replace(\".xlsx\",\"\")\n",
        "    df = pd.read_excel(file)\n",
        "\n",
        "    if '입장결과' not in df.columns:\n",
        "        print(f\"⚠️ {media_name}: '입장결과' 열 없음, 건너뜀\")\n",
        "        continue\n",
        "\n",
        "    df['입장정제'] = df['입장결과'].apply(classify_stance)\n",
        "    df_cleaned = df.dropna(subset=['입장정제']).copy()\n",
        "\n",
        "    print(f\"✅ {media_name}: {len(df)}건 → {len(df_cleaned)}건으로 축소\")\n",
        "\n",
        "    # 저장\n",
        "    save_path = os.path.join(output_path, f\"{media_name}_cleaned.xlsx\")\n",
        "    df_cleaned.to_excel(save_path, index=False)\n",
        "\n",
        "print(\"\\n모든 파일 처리 완료! `/전처리완료` 폴더에 저장됨.\")"
      ],
      "metadata": {
        "colab": {
          "base_uri": "https://localhost:8080/"
        },
        "id": "FzuO-ub78vi2",
        "outputId": "14acb12c-3a76-42db-ad82-e18bb2fcbbd1"
      },
      "execution_count": null,
      "outputs": [
        {
          "output_type": "stream",
          "name": "stdout",
          "text": [
            "✅ 내일신문_스탠스: 362건 → 353건으로 축소\n",
            "✅ 문화일보_스탠스: 1060건 → 1039건으로 축소\n",
            "✅ 국민일보_스탠스: 1500건 → 1472건으로 축소\n",
            "✅ 동아일보_스탠스: 1062건 → 1045건으로 축소\n",
            "✅ 아시아투데이_스탠스: 1348건 → 1307건으로 축소\n",
            "✅ 한국일보_스탠스: 1175건 → 1154건으로 축소\n",
            "✅ 경향신문_스탠스: 2286건 → 2254건으로 축소\n",
            "✅ 중앙일보_스탠스: 2163건 → 2118건으로 축소\n",
            "✅ 조선일보_스탠스: 1449건 → 1422건으로 축소\n",
            "✅ 한겨레_스탠스: 1502건 → 1474건으로 축소\n",
            "✅ 세계일보_스탠스: 3153건 → 3091건으로 축소\n",
            "✅ 서울신문_스탠스: 1923건 → 1859건으로 축소\n",
            "\n",
            "모든 파일 처리 완료! `/전처리완료` 폴더에 저장됨.\n"
          ]
        }
      ]
    },
    {
      "cell_type": "markdown",
      "source": [
        "### clustering: 감성점수 벡터화"
      ],
      "metadata": {
        "id": "ma1Mxg2ln0af"
      }
    },
    {
      "cell_type": "code",
      "source": [
        "import pandas as pd\n",
        "import ast\n",
        "import glob\n",
        "import os\n",
        "import unicodedata\n",
        "\n",
        "# 1. 경로 설정\n",
        "path = \"/content/drive/MyDrive/후쿠시마/전처리완료\"\n",
        "files = glob.glob(f\"{path}/*.xlsx\")\n",
        "\n",
        "# 감정 카테고리 (11개)\n",
        "emotion_cats = [\n",
        "    '걱정스러운(불안한)', '고마운', '기쁨(행복한)', '사랑하는',\n",
        "    '생각이 많은', '설레는(기대하는)', '슬픔(우울한)',\n",
        "    '일상적인', '즐거운(신나는)', '짜증남', '힘듦(지침)'\n",
        "]\n",
        "\n",
        "media_emotion_vectors = {}\n",
        "\n",
        "for file in files:\n",
        "    # 🔹 파일명 안전 처리 (유니코드 정규화 + 확장자 제거)\n",
        "    filename = unicodedata.normalize('NFC', os.path.basename(file))\n",
        "    media_name = filename.replace('_스탠스_cleaned.xlsx', '') \\\n",
        "                         .replace('_cleaned.xlsx', '')  # 예외도 처리\n",
        "\n",
        "    df = pd.read_excel(file)\n",
        "\n",
        "    if '감성점수' not in df.columns:\n",
        "        print(f\"⚠️ {media_name}: 감성점수 컬럼 없음 → 건너뜀\")\n",
        "        continue\n",
        "\n",
        "    # 1. 감성점수 문자열/NaN 처리\n",
        "    def safe_eval(x):\n",
        "        if pd.isna(x):\n",
        "            return []\n",
        "        if isinstance(x, (list, tuple)):\n",
        "            return x\n",
        "        if isinstance(x, str):\n",
        "            try:\n",
        "                return ast.literal_eval(x)\n",
        "            except:\n",
        "                return []\n",
        "        return []\n",
        "\n",
        "    df['감정리스트'] = df['감성점수'].apply(safe_eval)\n",
        "\n",
        "    # 2. list → dict\n",
        "    df['감정dict'] = df['감정리스트'].apply(lambda x: dict(x))\n",
        "\n",
        "    # 3. 감정별 컬럼 생성\n",
        "    for emo in emotion_cats:\n",
        "        df[emo] = df['감정dict'].apply(lambda x: x.get(emo, 0))\n",
        "\n",
        "    # 4. 언론사 평균 벡터 계산\n",
        "    media_emotion_vectors[media_name] = df[emotion_cats].mean().tolist()  # list로 고정\n",
        "\n",
        "# 5. DataFrame 변환\n",
        "if media_emotion_vectors:\n",
        "    media_emotions_df = pd.DataFrame.from_dict(media_emotion_vectors, orient='index', columns=emotion_cats)\n",
        "    print(media_emotions_df.head())\n",
        "    print(\"최종 shape:\", media_emotions_df.shape)\n",
        "else:\n",
        "    print(\"❗ media_emotion_vectors가 비어있습니다. 파일/컬럼을 확인하세요.\")"
      ],
      "metadata": {
        "colab": {
          "base_uri": "https://localhost:8080/"
        },
        "id": "RpiA6iDVl9v8",
        "outputId": "89cf94c3-1f7b-4c4f-ba5d-aaf28d2f7d10"
      },
      "execution_count": null,
      "outputs": [
        {
          "output_type": "stream",
          "name": "stdout",
          "text": [
            "        걱정스러운(불안한)       고마운   기쁨(행복한)      사랑하는    생각이 많은  설레는(기대하는)  \\\n",
            "내일신문      0.272329  0.009645  0.028071  0.002336  0.055556   0.187146   \n",
            "문화일보      0.247181  0.004225  0.025716  0.001738  0.035439   0.138165   \n",
            "국민일보      0.283801  0.014812  0.071609  0.000704  0.036793   0.152589   \n",
            "동아일보      0.320414  0.015896  0.041261  0.004164  0.047843   0.163507   \n",
            "아시아투데이    0.190551  0.011200  0.016691  0.001640  0.015008   0.212567   \n",
            "\n",
            "         슬픔(우울한)      일상적인  즐거운(신나는)       짜증남    힘듦(지침)  \n",
            "내일신문    0.312039  0.645192  0.013820  0.290515  0.000000  \n",
            "문화일보    0.326562  0.702913  0.006385  0.282665  0.000536  \n",
            "국민일보    0.344930  0.699000  0.022060  0.291994  0.000826  \n",
            "동아일보    0.382643  0.707841  0.016931  0.318774  0.002209  \n",
            "아시아투데이  0.211801  0.716669  0.007044  0.209857  0.000438  \n",
            "최종 shape: (12, 11)\n"
          ]
        }
      ]
    },
    {
      "cell_type": "markdown",
      "source": [
        "### 스탠스 벡터화 + 기사수"
      ],
      "metadata": {
        "id": "ccwazSYBaAIX"
      }
    },
    {
      "cell_type": "code",
      "source": [
        "import pandas as pd\n",
        "import glob\n",
        "import os\n",
        "import numpy as np\n",
        "import unicodedata\n",
        "\n",
        "# 1. 경로 설정 (_cleaned 파일만 불러오기)\n",
        "path = \"/content/drive/MyDrive/후쿠시마/전처리완료\"\n",
        "files = glob.glob(f\"{path}/*.xlsx\")\n",
        "\n",
        "main_labels = ['찬성', '중립', '반대']\n",
        "\n",
        "stance_ratio = {}     # 언론사별 스탠스 비율\n",
        "article_counts = {}   # 언론사별 기사 수\n",
        "\n",
        "for file in files:\n",
        "    # 🔹 파일명 안전 처리\n",
        "    filename = unicodedata.normalize('NFC', os.path.basename(file))\n",
        "    media_name = filename.replace('_스탠스_cleaned.xlsx', '') \\\n",
        "                         .replace('_cleaned.xlsx', '')  # 혹시 모를 예외도 처리\n",
        "\n",
        "    # 데이터 불러오기\n",
        "    df = pd.read_excel(file)\n",
        "\n",
        "    # 기사 수 기록\n",
        "    article_counts[media_name] = len(df)\n",
        "\n",
        "    # 스탠스 비율 계산\n",
        "    counts = df['입장결과'].value_counts(normalize=True)\n",
        "    stance_ratio[media_name] = [counts.get(lbl, 0) for lbl in main_labels]\n",
        "\n",
        "# 2. DataFrame 생성\n",
        "stance_ratio_df = pd.DataFrame.from_dict(stance_ratio, orient='index', columns=main_labels)\n",
        "\n",
        "# 3. 기사 수(log) 추가\n",
        "stance_ratio_df['기사수'] = pd.Series(article_counts)\n",
        "stance_ratio_df['log_기사수'] = np.log1p(stance_ratio_df['기사수'])\n",
        "\n",
        "print(\"=== 언론사별 스탠스 비율 + 기사 수 ===\")\n",
        "print(stance_ratio_df.round(3))"
      ],
      "metadata": {
        "colab": {
          "base_uri": "https://localhost:8080/"
        },
        "id": "pod4xDEN7HzI",
        "outputId": "16432d54-7226-4512-e889-cf9ea99ed8d3"
      },
      "execution_count": null,
      "outputs": [
        {
          "output_type": "stream",
          "name": "stdout",
          "text": [
            "=== 언론사별 스탠스 비율 + 기사 수 ===\n",
            "           찬성     중립     반대   기사수  log_기사수\n",
            "내일신문    0.754  0.147  0.096   353    5.869\n",
            "문화일보    0.792  0.116  0.076  1039    6.947\n",
            "국민일보    0.793  0.111  0.086  1472    7.295\n",
            "동아일보    0.806  0.110  0.079  1045    6.953\n",
            "아시아투데이  0.708  0.178  0.103  1307    7.176\n",
            "한국일보    0.769  0.124  0.093  1154    7.052\n",
            "경향신문    0.773  0.109  0.110  2254    7.721\n",
            "중앙일보    0.815  0.096  0.077  2118    7.659\n",
            "조선일보    0.808  0.105  0.079  1422    7.261\n",
            "한겨레     0.747  0.140  0.106  1474    7.296\n",
            "서울신문    0.760  0.150  0.081  1859    7.528\n",
            "세계일보    0.794  0.109  0.091  3091    8.037\n"
          ]
        }
      ]
    },
    {
      "cell_type": "markdown",
      "source": [
        "### 합치기"
      ],
      "metadata": {
        "id": "ruNi9fKJaF4W"
      }
    },
    {
      "cell_type": "code",
      "source": [
        "# 1. 언론사명 인덱스 통일 (둘 다 같은 순서인지 확인)\n",
        "print(media_emotions_df.index)\n",
        "print(stance_ratio_df.index)"
      ],
      "metadata": {
        "id": "pKheD4gMIBVL",
        "colab": {
          "base_uri": "https://localhost:8080/"
        },
        "outputId": "732615d2-69ae-4dac-d9c2-5be75b656b02"
      },
      "execution_count": null,
      "outputs": [
        {
          "output_type": "stream",
          "name": "stdout",
          "text": [
            "Index(['내일신문', '문화일보', '국민일보', '동아일보', '아시아투데이', '한국일보', '경향신문', '중앙일보',\n",
            "       '조선일보', '한겨레', '서울신문', '세계일보'],\n",
            "      dtype='object')\n",
            "Index(['내일신문', '문화일보', '국민일보', '동아일보', '아시아투데이', '한국일보', '경향신문', '중앙일보',\n",
            "       '조선일보', '한겨레', '서울신문', '세계일보'],\n",
            "      dtype='object')\n"
          ]
        }
      ]
    },
    {
      "cell_type": "code",
      "source": [
        "# media_emotions_df: 언론사 x 11 감정 평균 DataFrame (앞에서 만든 것)\n",
        "# stance_ratio_df: 방금 만든 스탠스+기사수 DataFrame\n",
        "\n",
        "# 2. 합치기\n",
        "final_features = pd.concat([stance_ratio_df, media_emotions_df], axis=1)\n",
        "\n",
        "print(\"=== 최종 언론사 성향 벡터 ===\")\n",
        "print(final_features.head())\n",
        "print(\"Shape:\", final_features.shape)  # (6, 16) 예상"
      ],
      "metadata": {
        "colab": {
          "base_uri": "https://localhost:8080/"
        },
        "id": "LPwN1Pa79d58",
        "outputId": "7492aa0e-e982-42b4-b73d-03483e375db2"
      },
      "execution_count": null,
      "outputs": [
        {
          "output_type": "stream",
          "name": "stdout",
          "text": [
            "=== 최종 언론사 성향 벡터 ===\n",
            "              찬성        중립        반대   기사수   log_기사수  걱정스러운(불안한)       고마운  \\\n",
            "내일신문    0.753541  0.147309  0.096317   353  5.869297    0.272329  0.009645   \n",
            "문화일보    0.792108  0.116458  0.076035  1039  6.946976    0.247181  0.004225   \n",
            "국민일보    0.793478  0.110734  0.085598  1472  7.295056    0.283801  0.014812   \n",
            "동아일보    0.805742  0.110048  0.079426  1045  6.952729    0.320414  0.015896   \n",
            "아시아투데이  0.708493  0.177506  0.102525  1307  7.176255    0.190551  0.011200   \n",
            "\n",
            "         기쁨(행복한)      사랑하는    생각이 많은  설레는(기대하는)   슬픔(우울한)      일상적인  즐거운(신나는)  \\\n",
            "내일신문    0.028071  0.002336  0.055556   0.187146  0.312039  0.645192  0.013820   \n",
            "문화일보    0.025716  0.001738  0.035439   0.138165  0.326562  0.702913  0.006385   \n",
            "국민일보    0.071609  0.000704  0.036793   0.152589  0.344930  0.699000  0.022060   \n",
            "동아일보    0.041261  0.004164  0.047843   0.163507  0.382643  0.707841  0.016931   \n",
            "아시아투데이  0.016691  0.001640  0.015008   0.212567  0.211801  0.716669  0.007044   \n",
            "\n",
            "             짜증남    힘듦(지침)  \n",
            "내일신문    0.290515  0.000000  \n",
            "문화일보    0.282665  0.000536  \n",
            "국민일보    0.291994  0.000826  \n",
            "동아일보    0.318774  0.002209  \n",
            "아시아투데이  0.209857  0.000438  \n",
            "Shape: (12, 16)\n"
          ]
        }
      ]
    },
    {
      "cell_type": "markdown",
      "source": [
        "# 1. 찬성/중립/반대 + 감정 + 기사수"
      ],
      "metadata": {
        "id": "MRuORkFbaKr4"
      }
    },
    {
      "cell_type": "code",
      "source": [
        "from sklearn.preprocessing import StandardScaler\n",
        "from scipy.cluster.hierarchy import linkage, dendrogram, fcluster\n",
        "import matplotlib.pyplot as plt\n",
        "import matplotlib as mpl\n",
        "import matplotlib.font_manager as fm\n",
        "import unicodedata\n",
        "\n",
        "# 1. 폰트 설정\n",
        "font_path = '/usr/share/fonts/truetype/nanum/NanumGothic.ttf'  # Colab\n",
        "fontprop = fm.FontProperties(fname=font_path)\n",
        "mpl.rcParams['font.family'] = fontprop.get_name()\n",
        "mpl.rcParams['axes.unicode_minus'] = False\n",
        "\n",
        "# 2. 표준화 (기사수만 제외, log_기사수는 사용)\n",
        "features_for_cluster1 = final_features.drop(columns=['기사수'])\n",
        "scaler = StandardScaler()\n",
        "X_scaled = scaler.fit_transform(features_for_cluster1)\n",
        "\n",
        "# 3. 계층적 클러스터링\n",
        "link = linkage(X_scaled, method='average', metric='cosine')\n",
        "\n",
        "# 4. 라벨 정규화\n",
        "labels_kr = [unicodedata.normalize('NFC', lbl) for lbl in features_for_cluster1.index]\n",
        "\n",
        "# 5. 덴드로그램 시각화\n",
        "plt.figure(figsize=(8,4))\n",
        "dendrogram(\n",
        "    link,\n",
        "    labels=labels_kr,\n",
        "    leaf_rotation=45,\n",
        "    color_threshold=0.75,\n",
        "    above_threshold_color='gray'\n",
        ")\n",
        "plt.axhline(y=0.75, color='r', linestyle='--')\n",
        "plt.title(\"후쿠시마 언론사 보도 성향 군집화 (스탠스·감정·보도량 기반)\", fontproperties=fontprop)\n",
        "plt.show()\n",
        "\n",
        "# 6. 클러스터 할당 (예: 5개 그룹)\n",
        "clusters = fcluster(link, 5, criterion='maxclust')\n",
        "\n",
        "# ✅ 원본은 보존하고, cluster 정보는 별도 DataFrame에 저장\n",
        "cluster_df1 = final_features.copy()   # 원본 복사\n",
        "cluster_df1['cluster'] = clusters     # 새로운 컬럼으로 cluster 정보 저장\n",
        "\n",
        "print(\"\\n=== 언론사별 클러스터 할당 ===\")\n",
        "print(cluster_df1[['cluster']])"
      ],
      "metadata": {
        "colab": {
          "base_uri": "https://localhost:8080/",
          "height": 719
        },
        "id": "fpsTG30UavqB",
        "outputId": "2d2b1800-6997-49d5-ccec-ec17ed85e052"
      },
      "execution_count": null,
      "outputs": [
        {
          "output_type": "display_data",
          "data": {
            "text/plain": [
              "<Figure size 800x400 with 1 Axes>"
            ],
            "image/png": "[encoded data removed]"
          },
          "metadata": {}
        },
        {
          "output_type": "stream",
          "name": "stdout",
          "text": [
            "\n",
            "=== 언론사별 클러스터 할당 ===\n",
            "        cluster\n",
            "내일신문          5\n",
            "문화일보          4\n",
            "국민일보          3\n",
            "동아일보          1\n",
            "아시아투데이        5\n",
            "한국일보          2\n",
            "경향신문          2\n",
            "중앙일보          1\n",
            "조선일보          1\n",
            "한겨레           2\n",
            "서울신문          3\n",
            "세계일보          4\n"
          ]
        }
      ]
    },
    {
      "cell_type": "code",
      "source": [
        "import pandas as pd\n",
        "\n",
        "# 1️⃣ 클러스터별 평균 계산 (군집 번호 제외는 numeric_only로 해결)\n",
        "cluster_summary = cluster_df1.groupby('cluster').mean(numeric_only=True).round(3)\n",
        "\n",
        "print(\"\\n=== 클러스터별 평균 특징 요약 ===\")\n",
        "print(cluster_summary)\n",
        "\n",
        "# 2️⃣ 스탠스·감정·기타 시기 변수만 나눠서 볼 수도 있음\n",
        "stance_cols = ['찬성','중립','반대']\n",
        "emotion_cols = [col for col in cluster_df1.columns if col in media_emotions_df.columns]\n",
        "time_cols = [col for col in cluster_df1.columns if '202' in col or '기타' in col]\n",
        "\n",
        "print(\"\\n=== 클러스터별 평균 스탠스 ===\")\n",
        "print(cluster_summary[stance_cols])\n",
        "\n",
        "print(\"\\n=== 클러스터별 평균 감정 ===\")\n",
        "print(cluster_summary[emotion_cols])\n",
        "\n",
        "if time_cols:\n",
        "    print(\"\\n=== 클러스터별 평균 시기 비율 ===\")\n",
        "    print(cluster_summary[time_cols])"
      ],
      "metadata": {
        "colab": {
          "base_uri": "https://localhost:8080/"
        },
        "id": "DFJ3zxGmA_Nm",
        "outputId": "4020114a-b65d-41bc-893d-167a6e1f8f95"
      },
      "execution_count": null,
      "outputs": [
        {
          "output_type": "stream",
          "name": "stdout",
          "text": [
            "\n",
            "=== 클러스터별 평균 특징 요약 ===\n",
            "            찬성     중립     반대       기사수  log_기사수  걱정스러운(불안한)    고마운  기쁨(행복한)  \\\n",
            "cluster                                                                       \n",
            "1        0.810  0.104  0.078  1528.333    7.291       0.309  0.013    0.042   \n",
            "2        0.763  0.124  0.103  1627.333    7.356       0.348  0.011    0.034   \n",
            "3        0.777  0.130  0.083  1665.500    7.412       0.287  0.012    0.063   \n",
            "4        0.793  0.113  0.083  2065.000    7.492       0.255  0.005    0.023   \n",
            "5        0.731  0.162  0.099   830.000    6.523       0.231  0.010    0.022   \n",
            "\n",
            "          사랑하는  생각이 많은  설레는(기대하는)  슬픔(우울한)   일상적인  즐거운(신나는)    짜증남  힘듦(지침)  \n",
            "cluster                                                                     \n",
            "1        0.003   0.057      0.165    0.383  0.699     0.019  0.323   0.002  \n",
            "2        0.001   0.063      0.213    0.378  0.687     0.018  0.322   0.003  \n",
            "3        0.000   0.038      0.137    0.333  0.688     0.017  0.284   0.001  \n",
            "4        0.001   0.032      0.126    0.317  0.700     0.010  0.337   0.000  \n",
            "5        0.002   0.035      0.200    0.262  0.681     0.010  0.250   0.000  \n",
            "\n",
            "=== 클러스터별 평균 스탠스 ===\n",
            "            찬성     중립     반대\n",
            "cluster                     \n",
            "1        0.810  0.104  0.078\n",
            "2        0.763  0.124  0.103\n",
            "3        0.777  0.130  0.083\n",
            "4        0.793  0.113  0.083\n",
            "5        0.731  0.162  0.099\n",
            "\n",
            "=== 클러스터별 평균 감정 ===\n",
            "         걱정스러운(불안한)    고마운  기쁨(행복한)   사랑하는  생각이 많은  설레는(기대하는)  슬픔(우울한)   일상적인  \\\n",
            "cluster                                                                         \n",
            "1             0.309  0.013    0.042  0.003   0.057      0.165    0.383  0.699   \n",
            "2             0.348  0.011    0.034  0.001   0.063      0.213    0.378  0.687   \n",
            "3             0.287  0.012    0.063  0.000   0.038      0.137    0.333  0.688   \n",
            "4             0.255  0.005    0.023  0.001   0.032      0.126    0.317  0.700   \n",
            "5             0.231  0.010    0.022  0.002   0.035      0.200    0.262  0.681   \n",
            "\n",
            "         즐거운(신나는)    짜증남  힘듦(지침)  \n",
            "cluster                           \n",
            "1           0.019  0.323   0.002  \n",
            "2           0.018  0.322   0.003  \n",
            "3           0.017  0.284   0.001  \n",
            "4           0.010  0.337   0.000  \n",
            "5           0.010  0.250   0.000  \n"
          ]
        }
      ]
    },
    {
      "cell_type": "markdown",
      "source": [
        "## ward + 유클리드"
      ],
      "metadata": {
        "id": "KSVbE0wKdTP7"
      }
    },
    {
      "cell_type": "code",
      "source": [
        "from sklearn.preprocessing import StandardScaler\n",
        "from scipy.cluster.hierarchy import linkage, dendrogram, fcluster\n",
        "import matplotlib.pyplot as plt\n",
        "import unicodedata\n",
        "\n",
        "# 1️⃣ 표준화 (기사수 포함 버전이면 drop 안 함)\n",
        "features_for_cluster1 = final_features.drop(columns=['기사수'])\n",
        "scaler = StandardScaler()\n",
        "X_scaled = scaler.fit_transform(features_for_cluster)\n",
        "\n",
        "# 2️⃣ Ward + Euclidean linkage\n",
        "link_ward = linkage(X_scaled, method='ward', metric='euclidean')\n",
        "\n",
        "# 3️⃣ 라벨 정규화\n",
        "labels_kr = [unicodedata.normalize('NFC', lbl) for lbl in features_for_cluster.index]\n",
        "\n",
        "# 4️⃣ 덴드로그램\n",
        "plt.figure(figsize=(10, 4))\n",
        "dendrogram(link_ward, labels=labels_kr, leaf_rotation=45)\n",
        "plt.axhline(y=6, color='r', linestyle='--')  # Ward에서는 거리 값 커짐\n",
        "plt.title(\"후쿠시마 언론사 보도 성향 군집화 (Ward + Euclidean)\", fontsize=13)\n",
        "plt.show()\n",
        "\n",
        "# 5️⃣ 클러스터 할당 (예: 5개)\n",
        "clusters_ward = fcluster(link_ward, 5, criterion='maxclust')\n",
        "final_features['cluster_ward'] = clusters_ward\n",
        "\n",
        "print(\"\\n=== 언론사별 Ward 클러스터 할당 ===\")\n",
        "print(final_features[['cluster_ward']])"
      ],
      "metadata": {
        "id": "qO0HfkhVdTFg"
      },
      "execution_count": null,
      "outputs": []
    },
    {
      "cell_type": "markdown",
      "source": [
        "# 기사수제외"
      ],
      "metadata": {
        "id": "ej9J0k0GvNaa"
      }
    },
    {
      "cell_type": "code",
      "source": [
        "from sklearn.preprocessing import StandardScaler\n",
        "from scipy.cluster.hierarchy import linkage, dendrogram, fcluster\n",
        "import matplotlib.pyplot as plt\n",
        "import matplotlib as mpl\n",
        "import matplotlib.font_manager as fm\n",
        "import unicodedata\n",
        "\n",
        "# 1. 폰트 설정\n",
        "font_path = '/usr/share/fonts/truetype/nanum/NanumGothic.ttf'  # Colab\n",
        "fontprop = fm.FontProperties(fname=font_path)\n",
        "mpl.rcParams['font.family'] = fontprop.get_name()\n",
        "mpl.rcParams['axes.unicode_minus'] = False\n",
        "\n",
        "# 2. 표준화 (기사수만 제외, log_기사수는 사용)\n",
        "features_for_cluster2 = final_features.drop(columns=['기사수','log_기사수'])\n",
        "scaler = StandardScaler()\n",
        "X_scaled = scaler.fit_transform(features_for_cluster2)\n",
        "\n",
        "# 3. 계층적 클러스터링\n",
        "link = linkage(X_scaled, method='average', metric='cosine')\n",
        "\n",
        "# 4. 라벨 정규화\n",
        "labels_kr = [unicodedata.normalize('NFC', lbl) for lbl in features_for_cluster2.index]\n",
        "\n",
        "# 5. 덴드로그램 시각화\n",
        "plt.figure(figsize=(8,4))\n",
        "dendrogram(\n",
        "    link,\n",
        "    labels=labels_kr,\n",
        "    leaf_rotation=45,\n",
        "    color_threshold=0.7,\n",
        "    above_threshold_color='gray'\n",
        ")\n",
        "plt.axhline(y=0.7, color='r', linestyle='--')\n",
        "plt.title(\"후쿠시마 언론사 보도 성향 군집화 (스탠스·감정 기반)\", fontproperties=fontprop)\n",
        "plt.show()\n",
        "\n",
        "# 6. 클러스터 할당 (예: 5개 그룹)\n",
        "clusters = fcluster(link, 5, criterion='maxclust')\n",
        "\n",
        "# ✅ 원본은 보존하고, cluster 정보는 별도 DataFrame에 저장\n",
        "cluster_df2 = final_features.copy()   # 원본 복사\n",
        "cluster_df2['cluster'] = clusters     # 새로운 컬럼으로 cluster 정보 저장\n",
        "\n",
        "print(\"\\n=== 언론사별 클러스터 할당 ===\")\n",
        "print(cluster_df2[['cluster']])"
      ],
      "metadata": {
        "colab": {
          "base_uri": "https://localhost:8080/",
          "height": 719
        },
        "id": "aKCB2-q-vM_n",
        "outputId": "1726547a-4560-4794-8a80-98c67f79f78c"
      },
      "execution_count": null,
      "outputs": [
        {
          "output_type": "display_data",
          "data": {
            "text/plain": [
              "<Figure size 800x400 with 1 Axes>"
            ],
            "image/png": "[encoded data removed]"
          },
          "metadata": {}
        },
        {
          "output_type": "stream",
          "name": "stdout",
          "text": [
            "\n",
            "=== 언론사별 클러스터 할당 ===\n",
            "        cluster\n",
            "내일신문          5\n",
            "문화일보          4\n",
            "국민일보          3\n",
            "동아일보          1\n",
            "아시아투데이        5\n",
            "한국일보          2\n",
            "경향신문          2\n",
            "중앙일보          1\n",
            "조선일보          1\n",
            "한겨레           2\n",
            "서울신문          3\n",
            "세계일보          4\n"
          ]
        }
      ]
    },
    {
      "cell_type": "code",
      "source": [
        "import pandas as pd\n",
        "\n",
        "# 1️⃣ 클러스터별 평균 계산 (군집 번호 제외는 numeric_only로 해결)\n",
        "cluster_summary = cluster_df2.groupby('cluster').mean(numeric_only=True).round(3)\n",
        "\n",
        "print(\"\\n=== 클러스터별 평균 특징 요약 ===\")\n",
        "print(cluster_summary)\n",
        "\n",
        "# 2️⃣ 스탠스·감정·기타 시기 변수만 나눠서 볼 수도 있음\n",
        "stance_cols = ['찬성','중립','반대']\n",
        "emotion_cols = [col for col in cluster_df2.columns if col in media_emotions_df.columns]\n",
        "time_cols = [col for col in cluster_df2.columns if '202' in col or '기타' in col]\n",
        "\n",
        "print(\"\\n=== 클러스터별 평균 스탠스 ===\")\n",
        "print(cluster_summary[stance_cols])\n",
        "\n",
        "print(\"\\n=== 클러스터별 평균 감정 ===\")\n",
        "print(cluster_summary[emotion_cols])"
      ],
      "metadata": {
        "colab": {
          "base_uri": "https://localhost:8080/"
        },
        "id": "TemIpvCYTNks",
        "outputId": "492bb3d7-ef3f-4c00-a124-ec3c239de1f0"
      },
      "execution_count": null,
      "outputs": [
        {
          "output_type": "stream",
          "name": "stdout",
          "text": [
            "\n",
            "=== 클러스터별 평균 특징 요약 ===\n",
            "            찬성     중립     반대       기사수  log_기사수  걱정스러운(불안한)    고마운  기쁨(행복한)  \\\n",
            "cluster                                                                       \n",
            "1        0.810  0.104  0.078  1528.333    7.291       0.309  0.013    0.042   \n",
            "2        0.763  0.124  0.103  1627.333    7.356       0.348  0.011    0.034   \n",
            "3        0.777  0.130  0.083  1665.500    7.412       0.287  0.012    0.063   \n",
            "4        0.793  0.113  0.083  2065.000    7.492       0.255  0.005    0.023   \n",
            "5        0.731  0.162  0.099   830.000    6.523       0.231  0.010    0.022   \n",
            "\n",
            "          사랑하는  생각이 많은  설레는(기대하는)  슬픔(우울한)   일상적인  즐거운(신나는)    짜증남  힘듦(지침)  \n",
            "cluster                                                                     \n",
            "1        0.003   0.057      0.165    0.383  0.699     0.019  0.323   0.002  \n",
            "2        0.001   0.063      0.213    0.378  0.687     0.018  0.322   0.003  \n",
            "3        0.000   0.038      0.137    0.333  0.688     0.017  0.284   0.001  \n",
            "4        0.001   0.032      0.126    0.317  0.700     0.010  0.337   0.000  \n",
            "5        0.002   0.035      0.200    0.262  0.681     0.010  0.250   0.000  \n",
            "\n",
            "=== 클러스터별 평균 스탠스 ===\n",
            "            찬성     중립     반대\n",
            "cluster                     \n",
            "1        0.810  0.104  0.078\n",
            "2        0.763  0.124  0.103\n",
            "3        0.777  0.130  0.083\n",
            "4        0.793  0.113  0.083\n",
            "5        0.731  0.162  0.099\n",
            "\n",
            "=== 클러스터별 평균 감정 ===\n",
            "         걱정스러운(불안한)    고마운  기쁨(행복한)   사랑하는  생각이 많은  설레는(기대하는)  슬픔(우울한)   일상적인  \\\n",
            "cluster                                                                         \n",
            "1             0.309  0.013    0.042  0.003   0.057      0.165    0.383  0.699   \n",
            "2             0.348  0.011    0.034  0.001   0.063      0.213    0.378  0.687   \n",
            "3             0.287  0.012    0.063  0.000   0.038      0.137    0.333  0.688   \n",
            "4             0.255  0.005    0.023  0.001   0.032      0.126    0.317  0.700   \n",
            "5             0.231  0.010    0.022  0.002   0.035      0.200    0.262  0.681   \n",
            "\n",
            "         즐거운(신나는)    짜증남  힘듦(지침)  \n",
            "cluster                           \n",
            "1           0.019  0.323   0.002  \n",
            "2           0.018  0.322   0.003  \n",
            "3           0.017  0.284   0.001  \n",
            "4           0.010  0.337   0.000  \n",
            "5           0.010  0.250   0.000  \n"
          ]
        }
      ]
    },
    {
      "cell_type": "markdown",
      "source": [
        "### 감정으로만"
      ],
      "metadata": {
        "id": "F8Oqe6hh1f3l"
      }
    },
    {
      "cell_type": "code",
      "source": [
        "from sklearn.preprocessing import StandardScaler\n",
        "from scipy.cluster.hierarchy import linkage, dendrogram, fcluster\n",
        "import matplotlib.pyplot as plt\n",
        "import unicodedata\n",
        "\n",
        "# 1️⃣ 감정 벡터 DataFrame 준비\n",
        "X = media_emotions_df.copy()\n",
        "\n",
        "# 2️⃣ 표준화\n",
        "scaler = StandardScaler()\n",
        "X_scaled = scaler.fit_transform(X)\n",
        "\n",
        "# 3️⃣ 계층적 클러스터링 (감정 기반)\n",
        "link_emotion = linkage(X_scaled, method='average', metric='cosine')\n",
        "\n",
        "# 4️⃣ 라벨 정규화 (한글 깨짐 방지)\n",
        "labels_kr = [unicodedata.normalize('NFC', lbl) for lbl in X.index]\n",
        "\n",
        "# 5️⃣ 덴드로그램 시각화\n",
        "plt.figure(figsize=(10,5))\n",
        "dendrogram(\n",
        "    link_emotion,\n",
        "    labels=labels_kr,\n",
        "    leaf_rotation=45,\n",
        "    color_threshold=0.7,\n",
        "    above_threshold_color='gray'\n",
        ")\n",
        "plt.axhline(y=0.7, color='r', linestyle='--')  # 컷라인 설정\n",
        "plt.title(\"후쿠시마 언론사 보도 감정 패턴 군집화 (감정)\", fontsize=13)\n",
        "plt.show()\n",
        "\n",
        "# 6️⃣ 클러스터 할당 (예: 5개)\n",
        "clusters_emotion = fcluster(link_emotion, 5, criterion='maxclust')\n",
        "media_emotions_df['cluster_emotion'] = clusters_emotion\n",
        "\n",
        "print(\"\\n=== 언론사별 감정 기반 클러스터 할당 ===\")\n",
        "print(media_emotions_df[['cluster_emotion']])"
      ],
      "metadata": {
        "colab": {
          "base_uri": "https://localhost:8080/",
          "height": 799
        },
        "id": "Peq037O01P4h",
        "outputId": "0a3902a5-ec39-41af-eda1-57fad5e46d88"
      },
      "execution_count": null,
      "outputs": [
        {
          "output_type": "display_data",
          "data": {
            "text/plain": [
              "<Figure size 1000x500 with 1 Axes>"
            ],
            "image/png": "[encoded data removed]"
          },
          "metadata": {}
        },
        {
          "output_type": "stream",
          "name": "stdout",
          "text": [
            "\n",
            "=== 언론사별 감정 기반 클러스터 할당 ===\n",
            "        cluster_emotion\n",
            "내일신문                  5\n",
            "문화일보                  4\n",
            "국민일보                  3\n",
            "동아일보                  1\n",
            "아시아투데이                4\n",
            "한국일보                  2\n",
            "경향신문                  2\n",
            "중앙일보                  1\n",
            "조선일보                  1\n",
            "한겨레                   1\n",
            "서울신문                  3\n",
            "세계일보                  4\n"
          ]
        }
      ]
    },
    {
      "cell_type": "markdown",
      "source": [
        "# new : 시간대 반응 패턴"
      ],
      "metadata": {
        "id": "1Nb0-iC-gwjD"
      }
    },
    {
      "cell_type": "code",
      "source": [
        "import pandas as pd\n",
        "import glob\n",
        "\n",
        "path = \"/content/drive/MyDrive/후쿠시마/전처리완료\"\n",
        "files = glob.glob(f\"{path}/*.xlsx\")\n",
        "\n",
        "# 새로운 세분화 라벨링 함수\n",
        "def event_period_fine(date):\n",
        "    if pd.Timestamp('2019-08-01') <= date <= pd.Timestamp('2019-08-31'):\n",
        "        return '2019-08'\n",
        "    elif pd.Timestamp('2021-04-01') <= date <= pd.Timestamp('2021-04-30'):\n",
        "        return '2021-04'\n",
        "    elif pd.Timestamp('2023-05-01') <= date <= pd.Timestamp('2023-07-31'):\n",
        "        return '2023-05~07'\n",
        "    elif pd.Timestamp('2023-08-01') <= date <= pd.Timestamp('2023-09-30'):\n",
        "        return '2023-08~09'\n",
        "    else:\n",
        "        return '기타'\n",
        "\n",
        "time_ratio_list = []\n",
        "\n",
        "for file in files:\n",
        "    media_name = file.split('/')[-1].replace('_스탠스_cleaned.xlsx','')\n",
        "    df = pd.read_excel(file)\n",
        "\n",
        "    # 날짜 처리\n",
        "    df['일자'] = pd.to_datetime(df['일자'].astype(str), errors='coerce')\n",
        "    df = df.dropna(subset=['일자'])\n",
        "    df['시기'] = df['일자'].apply(event_period_fine)\n",
        "\n",
        "    # 시기별 기사 비율 계산\n",
        "    count_series = df['시기'].value_counts()\n",
        "    ratio_series = count_series / count_series.sum()\n",
        "\n",
        "    # DataFrame으로 변환\n",
        "    temp_df = pd.DataFrame(ratio_series).T\n",
        "    temp_df.index = [media_name]\n",
        "    time_ratio_list.append(temp_df)\n",
        "\n",
        "# 언론사별 시기별 기사 비율 DataFrame\n",
        "time_ratio_fine_df = pd.concat(time_ratio_list).fillna(0)\n",
        "\n",
        "# 컬럼 순서 정리\n",
        "time_ratio_fine_df = time_ratio_fine_df[['2019-08','2021-04','2023-05~07','2023-08~09','기타']]\n",
        "\n",
        "print(\"\\n=== 언론사별 세분화된 시기별 기사 비율 ===\")\n",
        "print(time_ratio_fine_df)"
      ],
      "metadata": {
        "colab": {
          "base_uri": "https://localhost:8080/"
        },
        "id": "krm3ZZZrisHC",
        "outputId": "68fc826e-9f39-42c0-dbf6-7c478a077638"
      },
      "execution_count": null,
      "outputs": [
        {
          "output_type": "stream",
          "name": "stderr",
          "text": [
            "ERROR:root:Internal Python error in the inspect module.\n",
            "Below is the traceback from this internal error.\n",
            "\n",
            "ERROR:root:Internal Python error in the inspect module.\n",
            "Below is the traceback from this internal error.\n",
            "\n",
            "ERROR:root:Internal Python error in the inspect module.\n",
            "Below is the traceback from this internal error.\n",
            "\n"
          ]
        },
        {
          "output_type": "stream",
          "name": "stdout",
          "text": [
            "Traceback (most recent call last):\n",
            "  File \"/usr/local/lib/python3.11/dist-packages/IPython/core/interactiveshell.py\", line 3553, in run_code\n",
            "    exec(code_obj, self.user_global_ns, self.user_ns)\n",
            "  File \"/tmp/ipython-input-4162630763.py\", line 24, in <cell line: 0>\n",
            "    df = pd.read_excel(file)\n",
            "         ^^^^^^^^^^^^^^^^^^^\n",
            "  File \"/usr/local/lib/python3.11/dist-packages/pandas/io/excel/_base.py\", line 508, in read_excel\n",
            "    data = io.parse(\n",
            "           ^^^^^^^^^\n",
            "  File \"/usr/local/lib/python3.11/dist-packages/pandas/io/excel/_base.py\", line 1616, in parse\n",
            "    return self._reader.parse(\n",
            "           ^^^^^^^^^^^^^^^^^^^\n",
            "  File \"/usr/local/lib/python3.11/dist-packages/pandas/io/excel/_base.py\", line 778, in parse\n",
            "    data = self.get_sheet_data(sheet, file_rows_needed)\n",
            "           ^^^^^^^^^^^^^^^^^^^^^^^^^^^^^^^^^^^^^^^^^^^^\n",
            "  File \"/usr/local/lib/python3.11/dist-packages/pandas/io/excel/_openpyxl.py\", line 615, in get_sheet_data\n",
            "    for row_number, row in enumerate(sheet.rows):\n",
            "  File \"/usr/local/lib/python3.11/dist-packages/openpyxl/worksheet/_read_only.py\", line 85, in _cells_by_row\n",
            "    for idx, row in parser.parse():\n",
            "  File \"/usr/local/lib/python3.11/dist-packages/openpyxl/worksheet/_reader.py\", line None, in parse\n",
            "KeyboardInterrupt\n",
            "\n",
            "During handling of the above exception, another exception occurred:\n",
            "\n",
            "Traceback (most recent call last):\n",
            "  File \"/usr/local/lib/python3.11/dist-packages/IPython/core/interactiveshell.py\", line 2099, in showtraceback\n",
            "    stb = value._render_traceback_()\n",
            "          ^^^^^^^^^^^^^^^^^^^^^^^^\n",
            "AttributeError: 'KeyboardInterrupt' object has no attribute '_render_traceback_'\n",
            "\n",
            "During handling of the above exception, another exception occurred:\n",
            "\n",
            "Traceback (most recent call last):\n",
            "  File \"/usr/local/lib/python3.11/dist-packages/IPython/core/ultratb.py\", line 1101, in get_records\n",
            "    return _fixed_getinnerframes(etb, number_of_lines_of_context, tb_offset)\n",
            "           ^^^^^^^^^^^^^^^^^^^^^^^^^^^^^^^^^^^^^^^^^^^^^^^^^^^^^^^^^^^^^^^^^\n",
            "  File \"/usr/local/lib/python3.11/dist-packages/IPython/core/ultratb.py\", line 248, in wrapped\n",
            "    return f(*args, **kwargs)\n",
            "           ^^^^^^^^^^^^^^^^^^\n",
            "  File \"/usr/local/lib/python3.11/dist-packages/IPython/core/ultratb.py\", line 281, in _fixed_getinnerframes\n",
            "    records = fix_frame_records_filenames(inspect.getinnerframes(etb, context))\n",
            "                                          ^^^^^^^^^^^^^^^^^^^^^^^^^^^^^^^^^^^^\n",
            "  File \"/usr/lib/python3.11/inspect.py\", line 1739, in getinnerframes\n",
            "    traceback_info = getframeinfo(tb, context)\n",
            "                     ^^^^^^^^^^^^^^^^^^^^^^^^^\n",
            "  File \"/usr/lib/python3.11/inspect.py\", line 1686, in getframeinfo\n",
            "    start = lineno - 1 - context//2\n",
            "            ~~~~~~~^~~\n",
            "TypeError: unsupported operand type(s) for -: 'NoneType' and 'int'\n",
            "Traceback (most recent call last):\n",
            "  File \"/usr/local/lib/python3.11/dist-packages/IPython/core/interactiveshell.py\", line 3553, in run_code\n",
            "    exec(code_obj, self.user_global_ns, self.user_ns)\n",
            "  File \"/tmp/ipython-input-4162630763.py\", line 24, in <cell line: 0>\n",
            "    df = pd.read_excel(file)\n",
            "         ^^^^^^^^^^^^^^^^^^^\n",
            "  File \"/usr/local/lib/python3.11/dist-packages/pandas/io/excel/_base.py\", line 508, in read_excel\n",
            "    data = io.parse(\n",
            "           ^^^^^^^^^\n",
            "  File \"/usr/local/lib/python3.11/dist-packages/pandas/io/excel/_base.py\", line 1616, in parse\n",
            "    return self._reader.parse(\n",
            "           ^^^^^^^^^^^^^^^^^^^\n",
            "  File \"/usr/local/lib/python3.11/dist-packages/pandas/io/excel/_base.py\", line 778, in parse\n",
            "    data = self.get_sheet_data(sheet, file_rows_needed)\n",
            "           ^^^^^^^^^^^^^^^^^^^^^^^^^^^^^^^^^^^^^^^^^^^^\n",
            "  File \"/usr/local/lib/python3.11/dist-packages/pandas/io/excel/_openpyxl.py\", line 615, in get_sheet_data\n",
            "    for row_number, row in enumerate(sheet.rows):\n",
            "  File \"/usr/local/lib/python3.11/dist-packages/openpyxl/worksheet/_read_only.py\", line 85, in _cells_by_row\n",
            "    for idx, row in parser.parse():\n",
            "  File \"/usr/local/lib/python3.11/dist-packages/openpyxl/worksheet/_reader.py\", line None, in parse\n",
            "KeyboardInterrupt\n",
            "\n",
            "During handling of the above exception, another exception occurred:\n",
            "\n",
            "Traceback (most recent call last):\n",
            "  File \"/usr/local/lib/python3.11/dist-packages/IPython/core/interactiveshell.py\", line 2099, in showtraceback\n",
            "    stb = value._render_traceback_()\n",
            "          ^^^^^^^^^^^^^^^^^^^^^^^^\n",
            "AttributeError: 'KeyboardInterrupt' object has no attribute '_render_traceback_'\n",
            "\n",
            "During handling of the above exception, another exception occurred:\n",
            "\n",
            "Traceback (most recent call last):\n",
            "  File \"/usr/local/lib/python3.11/dist-packages/IPython/core/interactiveshell.py\", line 3473, in run_ast_nodes\n",
            "    if (await self.run_code(code, result,  async_=asy)):\n",
            "        ^^^^^^^^^^^^^^^^^^^^^^^^^^^^^^^^^^^^^^^^^^^^^^\n",
            "  File \"/usr/local/lib/python3.11/dist-packages/IPython/core/interactiveshell.py\", line 3575, in run_code\n",
            "    self.showtraceback(running_compiled_code=True)\n",
            "  File \"/usr/local/lib/python3.11/dist-packages/IPython/core/interactiveshell.py\", line 2101, in showtraceback\n",
            "    stb = self.InteractiveTB.structured_traceback(etype,\n",
            "          ^^^^^^^^^^^^^^^^^^^^^^^^^^^^^^^^^^^^^^^^^^^^^^\n",
            "  File \"/usr/local/lib/python3.11/dist-packages/IPython/core/ultratb.py\", line 1367, in structured_traceback\n",
            "    return FormattedTB.structured_traceback(\n",
            "           ^^^^^^^^^^^^^^^^^^^^^^^^^^^^^^^^^\n",
            "  File \"/usr/local/lib/python3.11/dist-packages/IPython/core/ultratb.py\", line 1267, in structured_traceback\n",
            "    return VerboseTB.structured_traceback(\n",
            "           ^^^^^^^^^^^^^^^^^^^^^^^^^^^^^^^\n",
            "  File \"/usr/local/lib/python3.11/dist-packages/IPython/core/ultratb.py\", line 1124, in structured_traceback\n",
            "    formatted_exception = self.format_exception_as_a_whole(etype, evalue, etb, number_of_lines_of_context,\n",
            "                          ^^^^^^^^^^^^^^^^^^^^^^^^^^^^^^^^^^^^^^^^^^^^^^^^^^^^^^^^^^^^^^^^^^^^^^^^^^^^^^^^\n",
            "  File \"/usr/local/lib/python3.11/dist-packages/IPython/core/ultratb.py\", line 1082, in format_exception_as_a_whole\n",
            "    last_unique, recursion_repeat = find_recursion(orig_etype, evalue, records)\n",
            "                                    ^^^^^^^^^^^^^^^^^^^^^^^^^^^^^^^^^^^^^^^^^^^\n",
            "  File \"/usr/local/lib/python3.11/dist-packages/IPython/core/ultratb.py\", line 382, in find_recursion\n",
            "    return len(records), 0\n",
            "           ^^^^^^^^^^^^\n",
            "TypeError: object of type 'NoneType' has no len()\n",
            "\n",
            "During handling of the above exception, another exception occurred:\n",
            "\n",
            "Traceback (most recent call last):\n",
            "  File \"/usr/local/lib/python3.11/dist-packages/IPython/core/interactiveshell.py\", line 2099, in showtraceback\n",
            "    stb = value._render_traceback_()\n",
            "          ^^^^^^^^^^^^^^^^^^^^^^^^\n",
            "AttributeError: 'TypeError' object has no attribute '_render_traceback_'\n",
            "\n",
            "During handling of the above exception, another exception occurred:\n",
            "\n",
            "Traceback (most recent call last):\n",
            "  File \"/usr/local/lib/python3.11/dist-packages/IPython/core/ultratb.py\", line 1101, in get_records\n",
            "    return _fixed_getinnerframes(etb, number_of_lines_of_context, tb_offset)\n",
            "           ^^^^^^^^^^^^^^^^^^^^^^^^^^^^^^^^^^^^^^^^^^^^^^^^^^^^^^^^^^^^^^^^^\n",
            "  File \"/usr/local/lib/python3.11/dist-packages/IPython/core/ultratb.py\", line 248, in wrapped\n",
            "    return f(*args, **kwargs)\n",
            "           ^^^^^^^^^^^^^^^^^^\n",
            "  File \"/usr/local/lib/python3.11/dist-packages/IPython/core/ultratb.py\", line 281, in _fixed_getinnerframes\n",
            "    records = fix_frame_records_filenames(inspect.getinnerframes(etb, context))\n",
            "                                          ^^^^^^^^^^^^^^^^^^^^^^^^^^^^^^^^^^^^\n",
            "  File \"/usr/lib/python3.11/inspect.py\", line 1739, in getinnerframes\n",
            "    traceback_info = getframeinfo(tb, context)\n",
            "                     ^^^^^^^^^^^^^^^^^^^^^^^^^\n",
            "  File \"/usr/lib/python3.11/inspect.py\", line 1686, in getframeinfo\n",
            "    start = lineno - 1 - context//2\n",
            "            ~~~~~~~^~~\n",
            "TypeError: unsupported operand type(s) for -: 'NoneType' and 'int'\n",
            "Traceback (most recent call last):\n",
            "  File \"/usr/local/lib/python3.11/dist-packages/IPython/core/interactiveshell.py\", line 3553, in run_code\n",
            "    exec(code_obj, self.user_global_ns, self.user_ns)\n",
            "  File \"/tmp/ipython-input-4162630763.py\", line 24, in <cell line: 0>\n",
            "    df = pd.read_excel(file)\n",
            "         ^^^^^^^^^^^^^^^^^^^\n",
            "  File \"/usr/local/lib/python3.11/dist-packages/pandas/io/excel/_base.py\", line 508, in read_excel\n",
            "    data = io.parse(\n",
            "           ^^^^^^^^^\n",
            "  File \"/usr/local/lib/python3.11/dist-packages/pandas/io/excel/_base.py\", line 1616, in parse\n",
            "    return self._reader.parse(\n",
            "           ^^^^^^^^^^^^^^^^^^^\n",
            "  File \"/usr/local/lib/python3.11/dist-packages/pandas/io/excel/_base.py\", line 778, in parse\n",
            "    data = self.get_sheet_data(sheet, file_rows_needed)\n",
            "           ^^^^^^^^^^^^^^^^^^^^^^^^^^^^^^^^^^^^^^^^^^^^\n",
            "  File \"/usr/local/lib/python3.11/dist-packages/pandas/io/excel/_openpyxl.py\", line 615, in get_sheet_data\n",
            "    for row_number, row in enumerate(sheet.rows):\n",
            "  File \"/usr/local/lib/python3.11/dist-packages/openpyxl/worksheet/_read_only.py\", line 85, in _cells_by_row\n",
            "    for idx, row in parser.parse():\n",
            "  File \"/usr/local/lib/python3.11/dist-packages/openpyxl/worksheet/_reader.py\", line None, in parse\n",
            "KeyboardInterrupt\n",
            "\n",
            "During handling of the above exception, another exception occurred:\n",
            "\n",
            "Traceback (most recent call last):\n",
            "  File \"/usr/local/lib/python3.11/dist-packages/IPython/core/interactiveshell.py\", line 2099, in showtraceback\n",
            "    stb = value._render_traceback_()\n",
            "          ^^^^^^^^^^^^^^^^^^^^^^^^\n",
            "AttributeError: 'KeyboardInterrupt' object has no attribute '_render_traceback_'\n",
            "\n",
            "During handling of the above exception, another exception occurred:\n",
            "\n",
            "Traceback (most recent call last):\n",
            "  File \"/usr/local/lib/python3.11/dist-packages/IPython/core/interactiveshell.py\", line 3473, in run_ast_nodes\n",
            "    if (await self.run_code(code, result,  async_=asy)):\n",
            "        ^^^^^^^^^^^^^^^^^^^^^^^^^^^^^^^^^^^^^^^^^^^^^^\n",
            "  File \"/usr/local/lib/python3.11/dist-packages/IPython/core/interactiveshell.py\", line 3575, in run_code\n",
            "    self.showtraceback(running_compiled_code=True)\n",
            "  File \"/usr/local/lib/python3.11/dist-packages/IPython/core/interactiveshell.py\", line 2101, in showtraceback\n",
            "    stb = self.InteractiveTB.structured_traceback(etype,\n",
            "          ^^^^^^^^^^^^^^^^^^^^^^^^^^^^^^^^^^^^^^^^^^^^^^\n",
            "  File \"/usr/local/lib/python3.11/dist-packages/IPython/core/ultratb.py\", line 1367, in structured_traceback\n",
            "    return FormattedTB.structured_traceback(\n",
            "           ^^^^^^^^^^^^^^^^^^^^^^^^^^^^^^^^^\n",
            "  File \"/usr/local/lib/python3.11/dist-packages/IPython/core/ultratb.py\", line 1267, in structured_traceback\n",
            "    return VerboseTB.structured_traceback(\n",
            "           ^^^^^^^^^^^^^^^^^^^^^^^^^^^^^^^\n",
            "  File \"/usr/local/lib/python3.11/dist-packages/IPython/core/ultratb.py\", line 1124, in structured_traceback\n",
            "    formatted_exception = self.format_exception_as_a_whole(etype, evalue, etb, number_of_lines_of_context,\n",
            "                          ^^^^^^^^^^^^^^^^^^^^^^^^^^^^^^^^^^^^^^^^^^^^^^^^^^^^^^^^^^^^^^^^^^^^^^^^^^^^^^^^\n",
            "  File \"/usr/local/lib/python3.11/dist-packages/IPython/core/ultratb.py\", line 1082, in format_exception_as_a_whole\n",
            "    last_unique, recursion_repeat = find_recursion(orig_etype, evalue, records)\n",
            "                                    ^^^^^^^^^^^^^^^^^^^^^^^^^^^^^^^^^^^^^^^^^^^\n",
            "  File \"/usr/local/lib/python3.11/dist-packages/IPython/core/ultratb.py\", line 382, in find_recursion\n",
            "    return len(records), 0\n",
            "           ^^^^^^^^^^^^\n",
            "TypeError: object of type 'NoneType' has no len()\n",
            "\n",
            "During handling of the above exception, another exception occurred:\n",
            "\n",
            "Traceback (most recent call last):\n",
            "  File \"/usr/local/lib/python3.11/dist-packages/IPython/core/interactiveshell.py\", line 2099, in showtraceback\n",
            "    stb = value._render_traceback_()\n",
            "          ^^^^^^^^^^^^^^^^^^^^^^^^\n",
            "AttributeError: 'TypeError' object has no attribute '_render_traceback_'\n",
            "\n",
            "During handling of the above exception, another exception occurred:\n",
            "\n",
            "Traceback (most recent call last):\n",
            "  File \"/usr/local/lib/python3.11/dist-packages/IPython/core/interactiveshell.py\", line 3030, in _run_cell\n",
            "    return runner(coro)\n",
            "           ^^^^^^^^^^^^\n",
            "  File \"/usr/local/lib/python3.11/dist-packages/IPython/core/async_helpers.py\", line 78, in _pseudo_sync_runner\n",
            "    coro.send(None)\n",
            "  File \"/usr/local/lib/python3.11/dist-packages/IPython/core/interactiveshell.py\", line 3257, in run_cell_async\n",
            "    has_raised = await self.run_ast_nodes(code_ast.body, cell_name,\n",
            "                 ^^^^^^^^^^^^^^^^^^^^^^^^^^^^^^^^^^^^^^^^^^^^^^^^^^\n",
            "  File \"/usr/local/lib/python3.11/dist-packages/IPython/core/interactiveshell.py\", line 3492, in run_ast_nodes\n",
            "    self.showtraceback()\n",
            "  File \"/usr/local/lib/python3.11/dist-packages/IPython/core/interactiveshell.py\", line 2101, in showtraceback\n",
            "    stb = self.InteractiveTB.structured_traceback(etype,\n",
            "          ^^^^^^^^^^^^^^^^^^^^^^^^^^^^^^^^^^^^^^^^^^^^^^\n",
            "  File \"/usr/local/lib/python3.11/dist-packages/IPython/core/ultratb.py\", line 1367, in structured_traceback\n",
            "    return FormattedTB.structured_traceback(\n",
            "           ^^^^^^^^^^^^^^^^^^^^^^^^^^^^^^^^^\n",
            "  File \"/usr/local/lib/python3.11/dist-packages/IPython/core/ultratb.py\", line 1267, in structured_traceback\n",
            "    return VerboseTB.structured_traceback(\n",
            "           ^^^^^^^^^^^^^^^^^^^^^^^^^^^^^^^\n",
            "  File \"/usr/local/lib/python3.11/dist-packages/IPython/core/ultratb.py\", line 1142, in structured_traceback\n",
            "    formatted_exceptions += self.format_exception_as_a_whole(etype, evalue, etb, lines_of_context,\n",
            "                            ^^^^^^^^^^^^^^^^^^^^^^^^^^^^^^^^^^^^^^^^^^^^^^^^^^^^^^^^^^^^^^^^^^^^^^\n",
            "  File \"/usr/local/lib/python3.11/dist-packages/IPython/core/ultratb.py\", line 1082, in format_exception_as_a_whole\n",
            "    last_unique, recursion_repeat = find_recursion(orig_etype, evalue, records)\n",
            "                                    ^^^^^^^^^^^^^^^^^^^^^^^^^^^^^^^^^^^^^^^^^^^\n",
            "  File \"/usr/local/lib/python3.11/dist-packages/IPython/core/ultratb.py\", line 382, in find_recursion\n",
            "    return len(records), 0\n",
            "           ^^^^^^^^^^^^\n",
            "TypeError: object of type 'NoneType' has no len()\n",
            "\n",
            "During handling of the above exception, another exception occurred:\n",
            "\n",
            "Traceback (most recent call last):\n",
            "  File \"/usr/local/lib/python3.11/dist-packages/IPython/core/interactiveshell.py\", line 2099, in showtraceback\n",
            "    stb = value._render_traceback_()\n",
            "          ^^^^^^^^^^^^^^^^^^^^^^^^\n",
            "AttributeError: 'TypeError' object has no attribute '_render_traceback_'\n",
            "\n",
            "During handling of the above exception, another exception occurred:\n",
            "\n",
            "Traceback (most recent call last):\n",
            "  File \"/usr/local/lib/python3.11/dist-packages/IPython/core/ultratb.py\", line 1101, in get_records\n",
            "    return _fixed_getinnerframes(etb, number_of_lines_of_context, tb_offset)\n",
            "           ^^^^^^^^^^^^^^^^^^^^^^^^^^^^^^^^^^^^^^^^^^^^^^^^^^^^^^^^^^^^^^^^^\n",
            "  File \"/usr/local/lib/python3.11/dist-packages/IPython/core/ultratb.py\", line 248, in wrapped\n",
            "    return f(*args, **kwargs)\n",
            "           ^^^^^^^^^^^^^^^^^^\n",
            "  File \"/usr/local/lib/python3.11/dist-packages/IPython/core/ultratb.py\", line 281, in _fixed_getinnerframes\n",
            "    records = fix_frame_records_filenames(inspect.getinnerframes(etb, context))\n",
            "                                          ^^^^^^^^^^^^^^^^^^^^^^^^^^^^^^^^^^^^\n",
            "  File \"/usr/lib/python3.11/inspect.py\", line 1739, in getinnerframes\n",
            "    traceback_info = getframeinfo(tb, context)\n",
            "                     ^^^^^^^^^^^^^^^^^^^^^^^^^\n",
            "  File \"/usr/lib/python3.11/inspect.py\", line 1686, in getframeinfo\n",
            "    start = lineno - 1 - context//2\n",
            "            ~~~~~~~^~~\n",
            "TypeError: unsupported operand type(s) for -: 'NoneType' and 'int'\n"
          ]
        }
      ]
    },
    {
      "cell_type": "code",
      "source": [
        "import unicodedata\n",
        "\n",
        "# final_features와 time_ratio_df 모두 인덱스 정규화\n",
        "final_features.index = [unicodedata.normalize('NFC', idx) for idx in final_features.index]\n",
        "time_ratio_fine_df.index = [unicodedata.normalize('NFC', idx) for idx in time_ratio_fine_df.index]\n",
        "\n",
        "# 정규화 후 일치 여부 확인\n",
        "print(final_features.index.equals(time_ratio_fine_df.index))"
      ],
      "metadata": {
        "colab": {
          "base_uri": "https://localhost:8080/"
        },
        "id": "jVWOvqvSmcC5",
        "outputId": "4f310acd-60fb-473d-97c0-f2684c192497"
      },
      "execution_count": null,
      "outputs": [
        {
          "output_type": "stream",
          "name": "stdout",
          "text": [
            "True\n"
          ]
        }
      ]
    },
    {
      "cell_type": "code",
      "source": [
        "new_final_features = pd.concat([final_features,time_ratio_fine_df], axis=1)\n",
        "new_final_features.drop(columns=['기사수','log_기사수'],inplace=True)"
      ],
      "metadata": {
        "id": "4UGcPCbqjvgk"
      },
      "execution_count": null,
      "outputs": []
    },
    {
      "cell_type": "code",
      "source": [
        "new_final_features.head()"
      ],
      "metadata": {
        "colab": {
          "base_uri": "https://localhost:8080/",
          "height": 556
        },
        "id": "qHmAr6-2ksk1",
        "outputId": "1e84a794-765a-4f5c-95e6-5ff4d62815f9"
      },
      "execution_count": null,
      "outputs": [
        {
          "output_type": "execute_result",
          "data": {
            "text/plain": [
              "              찬성        중립        반대  걱정스러운(불안한)       고마운   기쁨(행복한)  \\\n",
              "내일신문    0.753541  0.147309  0.096317    0.272329  0.009645  0.028071   \n",
              "문화일보    0.792108  0.116458  0.076035    0.247181  0.004225  0.025716   \n",
              "국민일보    0.793478  0.110734  0.085598    0.283801  0.014812  0.071609   \n",
              "동아일보    0.805742  0.110048  0.079426    0.320414  0.015896  0.041261   \n",
              "아시아투데이  0.708493  0.177506  0.102525    0.190551  0.011200  0.016691   \n",
              "\n",
              "            사랑하는    생각이 많은  설레는(기대하는)   슬픔(우울한)      일상적인  즐거운(신나는)       짜증남  \\\n",
              "내일신문    0.002336  0.055556   0.187146  0.312039  0.645192  0.013820  0.290515   \n",
              "문화일보    0.001738  0.035439   0.138165  0.326562  0.702913  0.006385  0.282665   \n",
              "국민일보    0.000704  0.036793   0.152589  0.344930  0.699000  0.022060  0.291994   \n",
              "동아일보    0.004164  0.047843   0.163507  0.382643  0.707841  0.016931  0.318774   \n",
              "아시아투데이  0.001640  0.015008   0.212567  0.211801  0.716669  0.007044  0.209857   \n",
              "\n",
              "          힘듦(지침)   2019-08   2021-04  2023-05~07  2023-08~09        기타  \n",
              "내일신문    0.000000  0.022663  0.028329    0.308782    0.169972  0.470255  \n",
              "문화일보    0.000536  0.010587  0.025024    0.312801    0.179018  0.472570  \n",
              "국민일보    0.000826  0.040082  0.061141    0.273098    0.171875  0.453804  \n",
              "동아일보    0.002209  0.018182  0.047847    0.303349    0.153110  0.477512  \n",
              "아시아투데이  0.000438  0.008416  0.069625    0.315226    0.238715  0.368018  "
            ],
            "text/html": [
              "\n",
              "  <div id=\"df-b2f67945-6146-4951-85c7-ccea2f351565\" class=\"colab-df-container\">\n",
              "    <div>\n",
              "<style scoped>\n",
              "    .dataframe tbody tr th:only-of-type {\n",
              "        vertical-align: middle;\n",
              "    }\n",
              "\n",
              "    .dataframe tbody tr th {\n",
              "        vertical-align: top;\n",
              "    }\n",
              "\n",
              "    .dataframe thead th {\n",
              "        text-align: right;\n",
              "    }\n",
              "</style>\n",
              "<table border=\"1\" class=\"dataframe\">\n",
              "  <thead>\n",
              "    <tr style=\"text-align: right;\">\n",
              "      <th></th>\n",
              "      <th>찬성</th>\n",
              "      <th>중립</th>\n",
              "      <th>반대</th>\n",
              "      <th>걱정스러운(불안한)</th>\n",
              "      <th>고마운</th>\n",
              "      <th>기쁨(행복한)</th>\n",
              "      <th>사랑하는</th>\n",
              "      <th>생각이 많은</th>\n",
              "      <th>설레는(기대하는)</th>\n",
              "      <th>슬픔(우울한)</th>\n",
              "      <th>일상적인</th>\n",
              "      <th>즐거운(신나는)</th>\n",
              "      <th>짜증남</th>\n",
              "      <th>힘듦(지침)</th>\n",
              "      <th>2019-08</th>\n",
              "      <th>2021-04</th>\n",
              "      <th>2023-05~07</th>\n",
              "      <th>2023-08~09</th>\n",
              "      <th>기타</th>\n",
              "    </tr>\n",
              "  </thead>\n",
              "  <tbody>\n",
              "    <tr>\n",
              "      <th>내일신문</th>\n",
              "      <td>0.753541</td>\n",
              "      <td>0.147309</td>\n",
              "      <td>0.096317</td>\n",
              "      <td>0.272329</td>\n",
              "      <td>0.009645</td>\n",
              "      <td>0.028071</td>\n",
              "      <td>0.002336</td>\n",
              "      <td>0.055556</td>\n",
              "      <td>0.187146</td>\n",
              "      <td>0.312039</td>\n",
              "      <td>0.645192</td>\n",
              "      <td>0.013820</td>\n",
              "      <td>0.290515</td>\n",
              "      <td>0.000000</td>\n",
              "      <td>0.022663</td>\n",
              "      <td>0.028329</td>\n",
              "      <td>0.308782</td>\n",
              "      <td>0.169972</td>\n",
              "      <td>0.470255</td>\n",
              "    </tr>\n",
              "    <tr>\n",
              "      <th>문화일보</th>\n",
              "      <td>0.792108</td>\n",
              "      <td>0.116458</td>\n",
              "      <td>0.076035</td>\n",
              "      <td>0.247181</td>\n",
              "      <td>0.004225</td>\n",
              "      <td>0.025716</td>\n",
              "      <td>0.001738</td>\n",
              "      <td>0.035439</td>\n",
              "      <td>0.138165</td>\n",
              "      <td>0.326562</td>\n",
              "      <td>0.702913</td>\n",
              "      <td>0.006385</td>\n",
              "      <td>0.282665</td>\n",
              "      <td>0.000536</td>\n",
              "      <td>0.010587</td>\n",
              "      <td>0.025024</td>\n",
              "      <td>0.312801</td>\n",
              "      <td>0.179018</td>\n",
              "      <td>0.472570</td>\n",
              "    </tr>\n",
              "    <tr>\n",
              "      <th>국민일보</th>\n",
              "      <td>0.793478</td>\n",
              "      <td>0.110734</td>\n",
              "      <td>0.085598</td>\n",
              "      <td>0.283801</td>\n",
              "      <td>0.014812</td>\n",
              "      <td>0.071609</td>\n",
              "      <td>0.000704</td>\n",
              "      <td>0.036793</td>\n",
              "      <td>0.152589</td>\n",
              "      <td>0.344930</td>\n",
              "      <td>0.699000</td>\n",
              "      <td>0.022060</td>\n",
              "      <td>0.291994</td>\n",
              "      <td>0.000826</td>\n",
              "      <td>0.040082</td>\n",
              "      <td>0.061141</td>\n",
              "      <td>0.273098</td>\n",
              "      <td>0.171875</td>\n",
              "      <td>0.453804</td>\n",
              "    </tr>\n",
              "    <tr>\n",
              "      <th>동아일보</th>\n",
              "      <td>0.805742</td>\n",
              "      <td>0.110048</td>\n",
              "      <td>0.079426</td>\n",
              "      <td>0.320414</td>\n",
              "      <td>0.015896</td>\n",
              "      <td>0.041261</td>\n",
              "      <td>0.004164</td>\n",
              "      <td>0.047843</td>\n",
              "      <td>0.163507</td>\n",
              "      <td>0.382643</td>\n",
              "      <td>0.707841</td>\n",
              "      <td>0.016931</td>\n",
              "      <td>0.318774</td>\n",
              "      <td>0.002209</td>\n",
              "      <td>0.018182</td>\n",
              "      <td>0.047847</td>\n",
              "      <td>0.303349</td>\n",
              "      <td>0.153110</td>\n",
              "      <td>0.477512</td>\n",
              "    </tr>\n",
              "    <tr>\n",
              "      <th>아시아투데이</th>\n",
              "      <td>0.708493</td>\n",
              "      <td>0.177506</td>\n",
              "      <td>0.102525</td>\n",
              "      <td>0.190551</td>\n",
              "      <td>0.011200</td>\n",
              "      <td>0.016691</td>\n",
              "      <td>0.001640</td>\n",
              "      <td>0.015008</td>\n",
              "      <td>0.212567</td>\n",
              "      <td>0.211801</td>\n",
              "      <td>0.716669</td>\n",
              "      <td>0.007044</td>\n",
              "      <td>0.209857</td>\n",
              "      <td>0.000438</td>\n",
              "      <td>0.008416</td>\n",
              "      <td>0.069625</td>\n",
              "      <td>0.315226</td>\n",
              "      <td>0.238715</td>\n",
              "      <td>0.368018</td>\n",
              "    </tr>\n",
              "  </tbody>\n",
              "</table>\n",
              "</div>\n",
              "    <div class=\"colab-df-buttons\">\n",
              "      \n",
              "  <div class=\"colab-df-container\">\n",
              "    <button class=\"colab-df-convert\" onclick=\"convertToInteractive('df-b2f67945-6146-4951-85c7-ccea2f351565')\"\n",
              "            title=\"Convert this dataframe to an interactive table.\"\n",
              "            style=\"display:none;\">\n",
              "      \n",
              "  <svg xmlns=\"http://www.w3.org/2000/svg\" height=\"24px\" viewBox=\"0 -960 960 960\">\n",
              "    <path d=\"M120-120v-720h720v720H120Zm60-500h600v-160H180v160Zm220 220h160v-160H400v160Zm0 220h160v-160H400v160ZM180-400h160v-160H180v160Zm440 0h160v-160H620v160ZM180-180h160v-160H180v160Zm440 0h160v-160H620v160Z\"/>\n",
              "  </svg>\n",
              "    </button>\n",
              "    \n",
              "  <style>\n",
              "    .colab-df-container {\n",
              "      display:flex;\n",
              "      gap: 12px;\n",
              "    }\n",
              "\n",
              "    .colab-df-convert {\n",
              "      background-color: #E8F0FE;\n",
              "      border: none;\n",
              "      border-radius: 50%;\n",
              "      cursor: pointer;\n",
              "      display: none;\n",
              "      fill: #1967D2;\n",
              "      height: 32px;\n",
              "      padding: 0 0 0 0;\n",
              "      width: 32px;\n",
              "    }\n",
              "\n",
              "    .colab-df-convert:hover {\n",
              "      background-color: #E2EBFA;\n",
              "      box-shadow: 0px 1px 2px rgba(60, 64, 67, 0.3), 0px 1px 3px 1px rgba(60, 64, 67, 0.15);\n",
              "      fill: #174EA6;\n",
              "    }\n",
              "\n",
              "    .colab-df-buttons div {\n",
              "      margin-bottom: 4px;\n",
              "    }\n",
              "\n",
              "    [theme=dark] .colab-df-convert {\n",
              "      background-color: #3B4455;\n",
              "      fill: #D2E3FC;\n",
              "    }\n",
              "\n",
              "    [theme=dark] .colab-df-convert:hover {\n",
              "      background-color: #434B5C;\n",
              "      box-shadow: 0px 1px 3px 1px rgba(0, 0, 0, 0.15);\n",
              "      filter: drop-shadow(0px 1px 2px rgba(0, 0, 0, 0.3));\n",
              "      fill: #FFFFFF;\n",
              "    }\n",
              "  </style>\n",
              "\n",
              "    <script>\n",
              "      const buttonEl =\n",
              "        document.querySelector('#df-b2f67945-6146-4951-85c7-ccea2f351565 button.colab-df-convert');\n",
              "      buttonEl.style.display =\n",
              "        google.colab.kernel.accessAllowed ? 'block' : 'none';\n",
              "\n",
              "      async function convertToInteractive(key) {\n",
              "        const element = document.querySelector('#df-b2f67945-6146-4951-85c7-ccea2f351565');\n",
              "        const dataTable =\n",
              "          await google.colab.kernel.invokeFunction('convertToInteractive',\n",
              "                                                    [key], {});\n",
              "        if (!dataTable) return;\n",
              "\n",
              "        const docLinkHtml = 'Like what you see? Visit the ' +\n",
              "          '<a target=\"_blank\" href=https://colab.research.google.com/notebooks/data_table.ipynb>data table notebook</a>'\n",
              "          + ' to learn more about interactive tables.';\n",
              "        element.innerHTML = '';\n",
              "        dataTable['output_type'] = 'display_data';\n",
              "        await google.colab.output.renderOutput(dataTable, element);\n",
              "        const docLink = document.createElement('div');\n",
              "        docLink.innerHTML = docLinkHtml;\n",
              "        element.appendChild(docLink);\n",
              "      }\n",
              "    </script>\n",
              "  </div>\n",
              "  \n",
              "    </div>\n",
              "  </div>\n",
              "  "
            ]
          },
          "metadata": {},
          "execution_count": 27
        }
      ]
    },
    {
      "cell_type": "code",
      "source": [
        "from sklearn.preprocessing import StandardScaler\n",
        "from scipy.cluster.hierarchy import linkage, dendrogram, fcluster\n",
        "import matplotlib.pyplot as plt\n",
        "import matplotlib as mpl\n",
        "import matplotlib.font_manager as fm\n",
        "import unicodedata\n",
        "\n",
        "# 0️⃣ Colab 한글 폰트 설정\n",
        "font_path = '/usr/share/fonts/truetype/nanum/NanumGothic.ttf'  # Colab\n",
        "fontprop = fm.FontProperties(fname=font_path)\n",
        "mpl.rcParams['font.family'] = fontprop.get_name()\n",
        "mpl.rcParams['axes.unicode_minus'] = False\n",
        "\n",
        "# 1️⃣ new_final_features 준비\n",
        "# cluster 같은 이전 군집 결과 컬럼이 있다면 제거\n",
        "use_features = new_final_features.copy()\n",
        "use_features = use_features.loc[:, ~use_features.columns.str.contains('cluster')]\n",
        "\n",
        "# 2️⃣ 표준화\n",
        "scaler = StandardScaler()\n",
        "X_scaled = scaler.fit_transform(use_features)\n",
        "\n",
        "# 3️⃣ 계층적 클러스터링 (코사인 거리 + average linkage)\n",
        "link = linkage(X_scaled, method='average', metric='cosine')\n",
        "\n",
        "# 4️⃣ 라벨 정규화\n",
        "labels_kr = [unicodedata.normalize('NFC', lbl) for lbl in use_features.index]\n",
        "\n",
        "# 5️⃣ 덴드로그램 시각화 (클러스터별 색상)\n",
        "plt.figure(figsize=(12,5))\n",
        "dendrogram(\n",
        "    link,\n",
        "    labels=labels_kr,\n",
        "    leaf_rotation=45,\n",
        "    color_threshold=0.75,\n",
        "    above_threshold_color='gray'\n",
        ")\n",
        "plt.axhline(y=0.75, color='r', linestyle='--')\n",
        "plt.title(\"후쿠시마 언론사 보도 성향 군집화 (스탠스·감정·시기 비율)\", fontproperties=fontprop)\n",
        "plt.show()\n",
        "\n",
        "# 6️⃣ 클러스터 번호 할당 (예: 5개)\n",
        "clusters = fcluster(link, 5, criterion='maxclust')\n",
        "new_final_features['cluster_final'] = clusters\n",
        "\n",
        "print(\"\\n=== 언론사별 최종 클러스터 할당 ===\")\n",
        "print(new_final_features[['cluster_final']])"
      ],
      "metadata": {
        "colab": {
          "base_uri": "https://localhost:8080/",
          "height": 796
        },
        "id": "oqVl0qmMm96E",
        "outputId": "7a54111d-e50a-4667-f857-c99d93a0cafa"
      },
      "execution_count": null,
      "outputs": [
        {
          "output_type": "display_data",
          "data": {
            "text/plain": [
              "<Figure size 1200x500 with 1 Axes>"
            ],
            "image/png": "[encoded data removed]"
          },
          "metadata": {}
        },
        {
          "output_type": "stream",
          "name": "stdout",
          "text": [
            "\n",
            "=== 언론사별 최종 클러스터 할당 ===\n",
            "        cluster_final\n",
            "내일신문                5\n",
            "문화일보                4\n",
            "국민일보                3\n",
            "동아일보                1\n",
            "아시아투데이              4\n",
            "한국일보                2\n",
            "경향신문                5\n",
            "중앙일보                1\n",
            "조선일보                1\n",
            "한겨레                 2\n",
            "서울신문                3\n",
            "세계일보                4\n"
          ]
        }
      ]
    },
    {
      "cell_type": "code",
      "source": [
        "import pandas as pd\n",
        "\n",
        "# 1️⃣ 군집 번호를 포함한 최종 데이터 준비\n",
        "df_cluster = new_final_features.copy()\n",
        "\n",
        "# 2️⃣ 클러스터 번호 컬럼명 확인\n",
        "cluster_col = 'cluster_final'\n",
        "\n",
        "# 3️⃣ 클러스터별 평균 계산 (군집번호 제외한 변수들)\n",
        "cluster_summary = df_cluster.groupby(cluster_col).mean().round(3)\n",
        "\n",
        "print(\"\\n=== 클러스터별 평균 특징 요약 ===\")\n",
        "print(cluster_summary)\n",
        "\n",
        "# 4️⃣ (선택) 스탠스/감정/시기 변수 구간 나눠서 보기\n",
        "stance_cols = ['찬성','중립','반대']\n",
        "emotion_cols = media_emotions_df.columns.tolist()\n",
        "time_cols = time_ratio_df.columns.tolist()\n",
        "\n",
        "print(\"\\n=== 클러스터별 평균 스탠스 ===\")\n",
        "print(cluster_summary[stance_cols])\n",
        "\n",
        "print(\"\\n=== 클러스터별 평균 감정 ===\")\n",
        "print(cluster_summary[emotion_cols])\n",
        "\n",
        "print(\"\\n=== 클러스터별 평균 시기 비율 ===\")\n",
        "print(cluster_summary[time_cols])"
      ],
      "metadata": {
        "colab": {
          "base_uri": "https://localhost:8080/",
          "height": 662
        },
        "id": "Xbr9USWmnZyZ",
        "outputId": "a1711789-4d84-4a35-e88e-0ec7a1fdeae1"
      },
      "execution_count": null,
      "outputs": [
        {
          "output_type": "stream",
          "name": "stdout",
          "text": [
            "\n",
            "=== 클러스터별 평균 특징 요약 ===\n",
            "                  찬성     중립     반대  걱정스러운(불안한)    고마운  기쁨(행복한)   사랑하는  생각이 많은  \\\n",
            "cluster_final                                                                   \n",
            "1              0.810  0.104  0.078       0.309  0.013    0.042  0.003   0.057   \n",
            "2              0.758  0.132  0.099       0.353  0.011    0.037  0.001   0.065   \n",
            "3              0.777  0.130  0.083       0.287  0.012    0.063  0.000   0.038   \n",
            "4              0.765  0.134  0.090       0.233  0.007    0.021  0.001   0.026   \n",
            "5              0.763  0.128  0.103       0.305  0.010    0.028  0.002   0.057   \n",
            "\n",
            "               설레는(기대하는)  슬픔(우울한)   일상적인  즐거운(신나는)    짜증남  힘듦(지침)  2019-08  \\\n",
            "cluster_final                                                                \n",
            "1                  0.165    0.383  0.699     0.019  0.323   0.002    0.020   \n",
            "2                  0.201    0.386  0.687     0.018  0.315   0.003    0.011   \n",
            "3                  0.137    0.333  0.688     0.017  0.284   0.001    0.033   \n",
            "4                  0.155    0.282  0.706     0.009  0.295   0.000    0.012   \n",
            "5                  0.212    0.337  0.666     0.015  0.314   0.001    0.023   \n",
            "\n",
            "               2021-04  2023-05~07  2023-08~09     기타  \n",
            "cluster_final                                          \n",
            "1                0.040       0.265       0.160  0.515  \n",
            "2                0.060       0.237       0.151  0.542  \n",
            "3                0.056       0.273       0.173  0.466  \n",
            "4                0.046       0.311       0.207  0.424  \n",
            "5                0.026       0.295       0.180  0.476  \n"
          ]
        },
        {
          "output_type": "error",
          "ename": "NameError",
          "evalue": "name 'time_ratio_df' is not defined",
          "traceback": [
            "\u001b[0;31m---------------------------------------------------------------------------\u001b[0m",
            "\u001b[0;31mNameError\u001b[0m                                 Traceback (most recent call last)",
            "\u001b[0;32m/tmp/ipython-input-3197647868.py\u001b[0m in \u001b[0;36m<cell line: 0>\u001b[0;34m()\u001b[0m\n\u001b[1;32m     16\u001b[0m \u001b[0mstance_cols\u001b[0m \u001b[0;34m=\u001b[0m \u001b[0;34m[\u001b[0m\u001b[0;34m'찬성'\u001b[0m\u001b[0;34m,\u001b[0m\u001b[0;34m'중립'\u001b[0m\u001b[0;34m,\u001b[0m\u001b[0;34m'반대'\u001b[0m\u001b[0;34m]\u001b[0m\u001b[0;34m\u001b[0m\u001b[0;34m\u001b[0m\u001b[0m\n\u001b[1;32m     17\u001b[0m \u001b[0memotion_cols\u001b[0m \u001b[0;34m=\u001b[0m \u001b[0mmedia_emotions_df\u001b[0m\u001b[0;34m.\u001b[0m\u001b[0mcolumns\u001b[0m\u001b[0;34m.\u001b[0m\u001b[0mtolist\u001b[0m\u001b[0;34m(\u001b[0m\u001b[0;34m)\u001b[0m\u001b[0;34m\u001b[0m\u001b[0;34m\u001b[0m\u001b[0m\n\u001b[0;32m---> 18\u001b[0;31m \u001b[0mtime_cols\u001b[0m \u001b[0;34m=\u001b[0m \u001b[0mtime_ratio_df\u001b[0m\u001b[0;34m.\u001b[0m\u001b[0mcolumns\u001b[0m\u001b[0;34m.\u001b[0m\u001b[0mtolist\u001b[0m\u001b[0;34m(\u001b[0m\u001b[0;34m)\u001b[0m\u001b[0;34m\u001b[0m\u001b[0;34m\u001b[0m\u001b[0m\n\u001b[0m\u001b[1;32m     19\u001b[0m \u001b[0;34m\u001b[0m\u001b[0m\n\u001b[1;32m     20\u001b[0m \u001b[0mprint\u001b[0m\u001b[0;34m(\u001b[0m\u001b[0;34m\"\\n=== 클러스터별 평균 스탠스 ===\"\u001b[0m\u001b[0;34m)\u001b[0m\u001b[0;34m\u001b[0m\u001b[0;34m\u001b[0m\u001b[0m\n",
            "\u001b[0;31mNameError\u001b[0m: name 'time_ratio_df' is not defined"
          ]
        }
      ]
    },
    {
      "cell_type": "code",
      "source": [
        "from sklearn.preprocessing import StandardScaler\n",
        "from scipy.cluster.hierarchy import linkage, dendrogram, fcluster\n",
        "import matplotlib.pyplot as plt\n",
        "import unicodedata\n",
        "\n",
        "# 1️⃣ 감정 벡터 DataFrame 준비\n",
        "X = stance_ratio_df.copy()\n",
        "\n",
        "# 2️⃣ 표준화\n",
        "scaler = StandardScaler()\n",
        "X_scaled = scaler.fit_transform(X)\n",
        "\n",
        "# 3️⃣ 계층적 클러스터링 (감정 기반)\n",
        "link_emotion = linkage(X_scaled, method='average', metric='cosine')\n",
        "\n",
        "# 4️⃣ 라벨 정규화 (한글 깨짐 방지)\n",
        "labels_kr = [unicodedata.normalize('NFC', lbl) for lbl in X.index]\n",
        "\n",
        "# 5️⃣ 덴드로그램 시각화\n",
        "plt.figure(figsize=(10,5))\n",
        "dendrogram(\n",
        "    link_emotion,\n",
        "    labels=labels_kr,\n",
        "    leaf_rotation=45,\n",
        "    color_threshold=0.7,\n",
        "    above_threshold_color='gray'\n",
        ")\n",
        "plt.axhline(y=0.7, color='r', linestyle='--')  # 컷라인 설정\n",
        "plt.title(\"후쿠시마 언론사  군집화 (스탠스)\", fontsize=13)\n",
        "plt.show()\n",
        "\n",
        "# 6️⃣ 클러스터 할당 (예: 5개)\n",
        "clusters_emotion = fcluster(link_emotion, 5, criterion='maxclust')\n",
        "media_emotions_df['cluster_emotion'] = clusters_emotion\n",
        "\n",
        "print(\"\\n=== 언론사별 감정 기반 클러스터 할당 ===\")\n",
        "print(media_emotions_df[['cluster_emotion']])"
      ],
      "metadata": {
        "colab": {
          "base_uri": "https://localhost:8080/",
          "height": 799
        },
        "id": "wfRt4N6xCPcA",
        "outputId": "28543116-c823-4c48-a611-a8b2dc8f7f85"
      },
      "execution_count": null,
      "outputs": [
        {
          "output_type": "display_data",
          "data": {
            "text/plain": [
              "<Figure size 1000x500 with 1 Axes>"
            ],
            "image/png": "[encoded data removed]"
          },
          "metadata": {}
        },
        {
          "output_type": "stream",
          "name": "stdout",
          "text": [
            "\n",
            "=== 언론사별 감정 기반 클러스터 할당 ===\n",
            "        cluster_emotion\n",
            "내일신문                  1\n",
            "문화일보                  4\n",
            "국민일보                  4\n",
            "동아일보                  4\n",
            "아시아투데이                2\n",
            "한국일보                  1\n",
            "경향신문                  5\n",
            "중앙일보                  4\n",
            "조선일보                  4\n",
            "한겨레                   2\n",
            "서울신문                  3\n",
            "세계일보                  5\n"
          ]
        }
      ]
    },
    {
      "cell_type": "markdown",
      "source": [
        "# pca"
      ],
      "metadata": {
        "id": "mrXpIxP9EQY-"
      }
    },
    {
      "cell_type": "code",
      "source": [
        "import pandas as pd\n",
        "from sklearn.preprocessing import StandardScaler\n",
        "from sklearn.decomposition import PCA\n",
        "\n",
        "# 감정 변수 선택\n",
        "emotion_cols = [\n",
        "    '걱정스러운(불안한)', '고마운', '기쁨(행복한)', '사랑하는',\n",
        "    '생각이 많은', '설레는(기대하는)', '슬픔(우울한)',\n",
        "    '일상적인', '즐거운(신나는)', '짜증남', '힘듦(지침)'\n",
        "]\n",
        "\n",
        "emotion_data = final_features[emotion_cols]\n",
        "\n",
        "# 표준화\n",
        "scaler = StandardScaler()\n",
        "emotion_scaled = scaler.fit_transform(emotion_data)\n",
        "\n",
        "# PCA 2축으로 축소\n",
        "pca = PCA(n_components=2)\n",
        "emotion_pca = pca.fit_transform(emotion_scaled)\n",
        "\n",
        "# 결과 DataFrame으로 변환\n",
        "emotion_pca_df = pd.DataFrame(\n",
        "    emotion_pca,\n",
        "    columns=['Emotion_PC1','Emotion_PC2'],\n",
        "    index=final_features.index\n",
        ")\n",
        "\n",
        "print(emotion_pca_df.head())\n",
        "print(\"설명된 분산 비율:\", pca.explained_variance_ratio_)"
      ],
      "metadata": {
        "colab": {
          "base_uri": "https://localhost:8080/"
        },
        "id": "Te5CGMw0ERQr",
        "outputId": "8ffbc095-c8fd-43e5-bac3-347488e3ca98"
      },
      "execution_count": null,
      "outputs": [
        {
          "output_type": "stream",
          "name": "stdout",
          "text": [
            "        Emotion_PC1  Emotion_PC2\n",
            "내일신문      -0.752639    -0.764333\n",
            "문화일보      -2.750500    -0.535900\n",
            "국민일보       0.637324    -0.822901\n",
            "동아일보       1.472833     1.289742\n",
            "아시아투데이    -4.764225     2.207651\n",
            "설명된 분산 비율: [0.4370189  0.15311528]\n"
          ]
        }
      ]
    },
    {
      "cell_type": "code",
      "source": [
        "from scipy.cluster.hierarchy import linkage, dendrogram, fcluster\n",
        "import matplotlib.pyplot as plt\n",
        "import matplotlib as mpl\n",
        "import matplotlib.font_manager as fm\n",
        "import unicodedata\n",
        "\n",
        "# 스탠스 변수 선택\n",
        "stance_cols = ['찬성','중립','반대']\n",
        "\n",
        "# 군집화용 데이터: 스탠스 + PCA 감정\n",
        "features_for_cluster_pca = pd.concat(\n",
        "    [final_features[stance_cols], emotion_pca_df],\n",
        "    axis=1\n",
        ")\n",
        "\n",
        "# 표준화\n",
        "X_scaled = scaler.fit_transform(features_for_cluster_pca)\n",
        "\n",
        "# 계층적 클러스터링 (Cosine + Average)\n",
        "link = linkage(X_scaled, method='average', metric='cosine')\n",
        "\n",
        "# 클러스터 할당 (예: 5개 그룹)\n",
        "clusters_pca = fcluster(link, 4, criterion='maxclust')\n",
        "\n",
        "# 최종 결과 저장\n",
        "cluster_result = pd.DataFrame({\n",
        "    '언론사': features_for_cluster_pca.index,\n",
        "    'cluster_pca': clusters_pca\n",
        "}).set_index('언론사')\n",
        "\n",
        "print(\"\\n=== 언론사별 클러스터 할당 (PCA 감정 요약) ===\")\n",
        "print(cluster_result)"
      ],
      "metadata": {
        "colab": {
          "base_uri": "https://localhost:8080/"
        },
        "id": "-ylL-SNvETUe",
        "outputId": "f0c2298b-e27b-40c7-d850-4b92208c5b3f"
      },
      "execution_count": null,
      "outputs": [
        {
          "output_type": "stream",
          "name": "stdout",
          "text": [
            "\n",
            "=== 언론사별 클러스터 할당 (PCA 감정 요약) ===\n",
            "        cluster_pca\n",
            "언론사                \n",
            "내일신문              3\n",
            "문화일보              2\n",
            "국민일보              2\n",
            "동아일보              1\n",
            "아시아투데이            3\n",
            "한국일보              4\n",
            "경향신문              4\n",
            "중앙일보              1\n",
            "조선일보              1\n",
            "한겨레               4\n",
            "서울신문              3\n",
            "세계일보              2\n"
          ]
        }
      ]
    },
    {
      "cell_type": "code",
      "source": [
        "labels_kr = [unicodedata.normalize('NFC', lbl) for lbl in features_for_cluster_pca.index]\n",
        "\n",
        "plt.figure(figsize=(9,4))\n",
        "dendrogram(\n",
        "    link,\n",
        "    labels=labels_kr,\n",
        "    leaf_rotation=45,\n",
        "    color_threshold=0.7,\n",
        "    above_threshold_color='gray'\n",
        ")\n",
        "plt.axhline(y=0.7, color='r', linestyle='--')\n",
        "plt.title(\"후쿠시마 언론사 보도 성향 군집화 (스탠스·PCA 감정 2축)\", fontsize=13)\n",
        "plt.show()"
      ],
      "metadata": {
        "colab": {
          "base_uri": "https://localhost:8080/",
          "height": 454
        },
        "id": "_c1pqVVtEVpb",
        "outputId": "e2cd0e15-da52-47d1-c327-f86d9add0026"
      },
      "execution_count": null,
      "outputs": [
        {
          "output_type": "display_data",
          "data": {
            "text/plain": [
              "<Figure size 900x400 with 1 Axes>"
            ],
            "image/png": "[encoded data removed]"
          },
          "metadata": {}
        }
      ]
    },
    {
      "cell_type": "code",
      "source": [
        "import pandas as pd\n",
        "\n",
        "# 1️⃣ 클러스터 결과를 기존 데이터와 합치기\n",
        "cluster_df_pca = final_features.copy()\n",
        "cluster_df_pca['cluster_pca'] = clusters_pca   # fcluster 결과\n",
        "\n",
        "# 2️⃣ 클러스터별 평균 특징 요약\n",
        "cluster_summary = cluster_df_pca.groupby('cluster_pca').mean()\n",
        "\n",
        "print(\"=== 클러스터별 평균 특징 요약 ===\")\n",
        "print(cluster_summary)\n",
        "\n",
        "# 3️⃣ 클러스터별 평균 스탠스\n",
        "stance_cols = ['찬성','중립','반대']\n",
        "print(\"\\n=== 클러스터별 평균 스탠스 ===\")\n",
        "print(cluster_summary[stance_cols])\n",
        "\n",
        "# 4️⃣ 클러스터별 평균 감정 (PCA 적용 전 원본 감정 변수)\n",
        "emotion_cols = ['걱정스러운(불안한)','고마운','기쁨(행복한)','사랑하는',\n",
        "                '생각이 많은','설레는(기대하는)','슬픔(우울한)',\n",
        "                '일상적인','즐거운(신나는)','짜증남','힘듦(지침)']\n",
        "print(\"\\n=== 클러스터별 평균 감정 ===\")\n",
        "print(cluster_summary[emotion_cols])"
      ],
      "metadata": {
        "colab": {
          "base_uri": "https://localhost:8080/"
        },
        "id": "GLmKKMwgFhYv",
        "outputId": "0fc078a6-3f39-48bc-b382-ca682cb554bf"
      },
      "execution_count": null,
      "outputs": [
        {
          "output_type": "stream",
          "name": "stdout",
          "text": [
            "=== 클러스터별 평균 특징 요약 ===\n",
            "                   찬성        중립        반대          기사수   log_기사수  걱정스러운(불안한)  \\\n",
            "cluster_pca                                                                    \n",
            "1            0.809559  0.103793  0.078383  1528.333333  7.290650    0.309348   \n",
            "2            0.793276  0.111965  0.084073  1867.333333  7.426202    0.264347   \n",
            "3            0.740527  0.158298  0.093177  1173.000000  6.857961    0.250923   \n",
            "4            0.762809  0.124271  0.102713  1627.333333  7.356391    0.348231   \n",
            "\n",
            "                  고마운   기쁨(행복한)      사랑하는    생각이 많은  설레는(기대하는)   슬픔(우울한)  \\\n",
            "cluster_pca                                                                \n",
            "1            0.012708  0.041951  0.003351  0.057008   0.165470  0.383352   \n",
            "2            0.008361  0.039301  0.001111  0.033568   0.134556  0.326267   \n",
            "3            0.010341  0.033341  0.001374  0.036304   0.173423  0.281510   \n",
            "4            0.011089  0.033921  0.000984  0.062891   0.212792  0.377706   \n",
            "\n",
            "                 일상적인  즐거운(신나는)       짜증남    힘듦(지침)  \n",
            "cluster_pca                                          \n",
            "1            0.699144  0.019229  0.322619  0.002474  \n",
            "2            0.699730  0.013977  0.322072  0.000508  \n",
            "3            0.679306  0.010942  0.258823  0.000226  \n",
            "4            0.687214  0.017589  0.322185  0.002851  \n",
            "\n",
            "=== 클러스터별 평균 스탠스 ===\n",
            "                   찬성        중립        반대\n",
            "cluster_pca                              \n",
            "1            0.809559  0.103793  0.078383\n",
            "2            0.793276  0.111965  0.084073\n",
            "3            0.740527  0.158298  0.093177\n",
            "4            0.762809  0.124271  0.102713\n",
            "\n",
            "=== 클러스터별 평균 감정 ===\n",
            "             걱정스러운(불안한)       고마운   기쁨(행복한)      사랑하는    생각이 많은  설레는(기대하는)  \\\n",
            "cluster_pca                                                                  \n",
            "1              0.309348  0.012708  0.041951  0.003351  0.057008   0.165470   \n",
            "2              0.264347  0.008361  0.039301  0.001111  0.033568   0.134556   \n",
            "3              0.250923  0.010341  0.033341  0.001374  0.036304   0.173423   \n",
            "4              0.348231  0.011089  0.033921  0.000984  0.062891   0.212792   \n",
            "\n",
            "              슬픔(우울한)      일상적인  즐거운(신나는)       짜증남    힘듦(지침)  \n",
            "cluster_pca                                                    \n",
            "1            0.383352  0.699144  0.019229  0.322619  0.002474  \n",
            "2            0.326267  0.699730  0.013977  0.322072  0.000508  \n",
            "3            0.281510  0.679306  0.010942  0.258823  0.000226  \n",
            "4            0.377706  0.687214  0.017589  0.322185  0.002851  \n"
          ]
        }
      ]
    }
  ]
}