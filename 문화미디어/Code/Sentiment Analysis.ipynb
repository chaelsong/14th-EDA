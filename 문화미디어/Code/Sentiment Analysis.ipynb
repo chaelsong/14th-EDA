{
 "cells": [
  {
   "cell_type": "code",
   "execution_count": null,
   "id": "4c3b961c-6514-4bb8-98f3-8e26b99ecb96",
   "metadata": {
    "scrolled": true
   },
   "outputs": [
    {
     "name": "stderr",
     "output_type": "stream",
     "text": [
      "Device set to use cpu\n",
      "문장 분리 중: 100%|██████████████████████████████████████████████████████████████| 2163/2163 [00:00<00:00, 8530.07it/s]\n",
      "감성 분석 중:   0%|                                                                           | 0/1633 [00:00<?, ?it/s]C:\\Users\\user\\anaconda3\\Lib\\site-packages\\torch\\nn\\modules\\module.py:1762: FutureWarning: `encoder_attention_mask` is deprecated and will be removed in version 4.55.0 for `ElectraSelfAttention.forward`.\n",
      "  return forward_call(*args, **kwargs)\n",
      "감성 분석 중:   2%|█▌                                                                | 39/1633 [01:03<41:51,  1.58s/it]"
     ]
    }
   ],
   "source": [
    "import pandas as pd\n",
    "from transformers import AutoTokenizer, AutoModelForSequenceClassification, pipeline\n",
    "from konlpy.tag import Okt\n",
    "import re\n",
    "from collections import defaultdict\n",
    "from tqdm import tqdm\n",
    "import torch\n",
    "\n",
    "# 데이터 불러오기\n",
    "df1 = pd.read_excel(\"news/중앙일보(1).xlsx\")\n",
    "\n",
    "# GPU 설정\n",
    "device = 0 if torch.cuda.is_available() else -1\n",
    "\n",
    "# 모델 및 파이프라인 설정 (GPU 사용)\n",
    "tokenizer = AutoTokenizer.from_pretrained(\"nlp04/korean_sentiment_analysis_kcelectra\")\n",
    "model = AutoModelForSequenceClassification.from_pretrained(\"nlp04/korean_sentiment_analysis_kcelectra\")\n",
    "sentiment_analyzer = pipeline(\"sentiment-analysis\", model=model, tokenizer=tokenizer, device=device)\n",
    "\n",
    "# 전처리 + 문장 분할 함수\n",
    "def split_sentences(content):\n",
    "    if not isinstance(content, str):\n",
    "        return []\n",
    "    text = re.sub(r'[^\\.\\?\\!\\s\\w\\d]', ' ', content)\n",
    "    text = re.sub(r'([\\.\\?\\!])', r'\\1 ', text)\n",
    "    sentences = re.split(r'[\\.\\?\\!]\\s+', text)\n",
    "    return [s.strip() for s in sentences if s.strip()]\n",
    "\n",
    "# 전체 문서를 문장 단위로 나누고 문서 ID 부여\n",
    "all_sentences = []\n",
    "doc_ids = []\n",
    "\n",
    "for i, content in enumerate(tqdm(df1['본문'], desc=\"문장 분리 중\")):\n",
    "    sentences = split_sentences(content)\n",
    "    all_sentences.extend(sentences)\n",
    "    doc_ids.extend([i] * len(sentences))  # 문서 인덱스를 같이 저장\n",
    "\n",
    "# 배치 감성 분석 (GPU에서 실행)\n",
    "batch_size = 32\n",
    "results = []\n",
    "for i in tqdm(range(0, len(all_sentences), batch_size), desc=\"감성 분석 중\"):\n",
    "    batch = all_sentences[i:i+batch_size]\n",
    "    try:\n",
    "        result = sentiment_analyzer(batch)\n",
    "        results.extend(result)\n",
    "    except Exception as e:\n",
    "        print(f\"오류 발생: {e}\")\n",
    "        results.extend([{'label': 'error', 'score': 0.0}] * len(batch))  # 에러 발생 시 기본값\n",
    "\n",
    "# 결과 집계: 문서별 평균 점수 계산\n",
    "score_dict = defaultdict(lambda: defaultdict(list))\n",
    "\n",
    "for doc_id, result in zip(doc_ids, results):\n",
    "    label = result['label']\n",
    "    score = result['score']\n",
    "    score_dict[doc_id][label].append(score)\n",
    "\n",
    "# 평균 점수 계산\n",
    "final_scores = []\n",
    "for i in range(len(df1)):\n",
    "    label_scores = score_dict[i]\n",
    "    avg_scores = [(label, round(sum(scores)/len(scores), 4)) for label, scores in label_scores.items()]\n",
    "    final_scores.append(avg_scores)\n",
    "\n",
    "# 결과 저장\n",
    "df1['감성점수'] = final_scores\n"
   ]
  }
 ],
 "metadata": {
  "kernelspec": {
   "display_name": "Python 3 (ipykernel)",
   "language": "python",
   "name": "python3"
  },
  "language_info": {
   "codemirror_mode": {
    "name": "ipython",
    "version": 3
   },
   "file_extension": ".py",
   "mimetype": "text/x-python",
   "name": "python",
   "nbconvert_exporter": "python",
   "pygments_lexer": "ipython3",
   "version": "3.12.7"
  }
 },
 "nbformat": 4,
 "nbformat_minor": 5
}
