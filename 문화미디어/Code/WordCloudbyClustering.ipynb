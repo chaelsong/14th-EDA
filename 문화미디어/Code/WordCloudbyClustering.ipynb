{
  "nbformat": 4,
  "nbformat_minor": 0,
  "metadata": {
    "colab": {
      "provenance": []
    },
    "kernelspec": {
      "name": "python3",
      "display_name": "Python 3"
    },
    "language_info": {
      "name": "python"
    }
  },
  "cells": [
    {
      "cell_type": "markdown",
      "source": [
        "### 세팅"
      ],
      "metadata": {
        "id": "QDAZWctwdiFY"
      }
    },
    {
      "cell_type": "code",
      "execution_count": null,
      "metadata": {
        "colab": {
          "base_uri": "https://localhost:8080/"
        },
        "collapsed": true,
        "id": "oAorBGmW4wRd",
        "outputId": "8bd78685-c15f-44bc-c3e7-6bd152801486"
      },
      "outputs": [
        {
          "output_type": "stream",
          "name": "stdout",
          "text": [
            "Collecting konlpy\n",
            "  Downloading konlpy-0.6.0-py2.py3-none-any.whl.metadata (1.9 kB)\n",
            "Requirement already satisfied: wordcloud in /usr/local/lib/python3.11/dist-packages (1.9.4)\n",
            "Requirement already satisfied: matplotlib in /usr/local/lib/python3.11/dist-packages (3.10.0)\n",
            "Collecting JPype1>=0.7.0 (from konlpy)\n",
            "  Downloading jpype1-1.6.0-cp311-cp311-manylinux2014_x86_64.manylinux_2_17_x86_64.whl.metadata (5.0 kB)\n",
            "Requirement already satisfied: lxml>=4.1.0 in /usr/local/lib/python3.11/dist-packages (from konlpy) (5.4.0)\n",
            "Requirement already satisfied: numpy>=1.6 in /usr/local/lib/python3.11/dist-packages (from konlpy) (2.0.2)\n",
            "Requirement already satisfied: pillow in /usr/local/lib/python3.11/dist-packages (from wordcloud) (11.3.0)\n",
            "Requirement already satisfied: contourpy>=1.0.1 in /usr/local/lib/python3.11/dist-packages (from matplotlib) (1.3.2)\n",
            "Requirement already satisfied: cycler>=0.10 in /usr/local/lib/python3.11/dist-packages (from matplotlib) (0.12.1)\n",
            "Requirement already satisfied: fonttools>=4.22.0 in /usr/local/lib/python3.11/dist-packages (from matplotlib) (4.59.0)\n",
            "Requirement already satisfied: kiwisolver>=1.3.1 in /usr/local/lib/python3.11/dist-packages (from matplotlib) (1.4.8)\n",
            "Requirement already satisfied: packaging>=20.0 in /usr/local/lib/python3.11/dist-packages (from matplotlib) (25.0)\n",
            "Requirement already satisfied: pyparsing>=2.3.1 in /usr/local/lib/python3.11/dist-packages (from matplotlib) (3.2.3)\n",
            "Requirement already satisfied: python-dateutil>=2.7 in /usr/local/lib/python3.11/dist-packages (from matplotlib) (2.9.0.post0)\n",
            "Requirement already satisfied: six>=1.5 in /usr/local/lib/python3.11/dist-packages (from python-dateutil>=2.7->matplotlib) (1.17.0)\n",
            "Downloading konlpy-0.6.0-py2.py3-none-any.whl (19.4 MB)\n",
            "\u001b[2K   \u001b[90m━━━━━━━━━━━━━━━━━━━━━━━━━━━━━━━━━━━━━━━━\u001b[0m \u001b[32m19.4/19.4 MB\u001b[0m \u001b[31m87.2 MB/s\u001b[0m eta \u001b[36m0:00:00\u001b[0m\n",
            "\u001b[?25hDownloading jpype1-1.6.0-cp311-cp311-manylinux2014_x86_64.manylinux_2_17_x86_64.whl (496 kB)\n",
            "\u001b[2K   \u001b[90m━━━━━━━━━━━━━━━━━━━━━━━━━━━━━━━━━━━━━━━━\u001b[0m \u001b[32m496.6/496.6 kB\u001b[0m \u001b[31m28.9 MB/s\u001b[0m eta \u001b[36m0:00:00\u001b[0m\n",
            "\u001b[?25hInstalling collected packages: JPype1, konlpy\n",
            "Successfully installed JPype1-1.6.0 konlpy-0.6.0\n"
          ]
        }
      ],
      "source": [
        "# ! pip install konlpy wordcloud matplotlib"
      ]
    },
    {
      "cell_type": "code",
      "source": [
        "from google.colab import drive\n",
        "drive.mount('/content/drive')"
      ],
      "metadata": {
        "colab": {
          "base_uri": "https://localhost:8080/"
        },
        "id": "ZgOwgbJCs5sn",
        "outputId": "02c2b465-e08f-45d0-b2fa-0a1cbfcbc03d"
      },
      "execution_count": null,
      "outputs": [
        {
          "output_type": "stream",
          "name": "stdout",
          "text": [
            "Mounted at /content/drive\n"
          ]
        }
      ]
    },
    {
      "cell_type": "code",
      "source": [
        "!apt-get update -qq\n",
        "!apt-get install -y fonts-nanum\n",
        "import matplotlib.pyplot as plt\n",
        "import matplotlib.font_manager as fm\n",
        "plt.rc('font', family='NanumGothic')\n",
        "plt.rcParams['axes.unicode_minus'] = False"
      ],
      "metadata": {
        "colab": {
          "base_uri": "https://localhost:8080/"
        },
        "id": "hkmDjiYts7BZ",
        "outputId": "70c4f637-5aa5-465a-b10d-33c41ba16f3b"
      },
      "execution_count": null,
      "outputs": [
        {
          "output_type": "stream",
          "name": "stdout",
          "text": [
            "W: Skipping acquire of configured file 'main/source/Sources' as repository 'https://r2u.stat.illinois.edu/ubuntu jammy InRelease' does not seem to provide it (sources.list entry misspelt?)\n",
            "Reading package lists... Done\n",
            "Building dependency tree... Done\n",
            "Reading state information... Done\n",
            "The following NEW packages will be installed:\n",
            "  fonts-nanum\n",
            "0 upgraded, 1 newly installed, 0 to remove and 37 not upgraded.\n",
            "Need to get 10.3 MB of archives.\n",
            "After this operation, 34.1 MB of additional disk space will be used.\n",
            "Get:1 http://archive.ubuntu.com/ubuntu jammy/universe amd64 fonts-nanum all 20200506-1 [10.3 MB]\n",
            "Fetched 10.3 MB in 2s (6,189 kB/s)\n",
            "Selecting previously unselected package fonts-nanum.\n",
            "(Reading database ... 126284 files and directories currently installed.)\n",
            "Preparing to unpack .../fonts-nanum_20200506-1_all.deb ...\n",
            "Unpacking fonts-nanum (20200506-1) ...\n",
            "Setting up fonts-nanum (20200506-1) ...\n",
            "Processing triggers for fontconfig (2.13.1-4.2ubuntu5) ...\n"
          ]
        }
      ]
    },
    {
      "cell_type": "code",
      "source": [
        "import matplotlib as mpl\n",
        "\n",
        "# 시스템 폰트 디렉토리 내 나눔고딕 경로\n",
        "font_path = \"/usr/share/fonts/truetype/nanum/NanumGothic.ttf\"\n",
        "\n",
        "# 폰트 수동 등록\n",
        "fm.fontManager.addfont(font_path)\n",
        "nanum_font = fm.FontProperties(fname=font_path).get_name()\n",
        "\n",
        "# matplotlib에 폰트 등록\n",
        "plt.rc('font', family=nanum_font)\n",
        "plt.rcParams['axes.unicode_minus'] = False\n",
        "\n",
        "# 확인\n",
        "print(f\"✅ 적용된 폰트 이름: {nanum_font}\")"
      ],
      "metadata": {
        "colab": {
          "base_uri": "https://localhost:8080/"
        },
        "id": "f9w77Z_4qwft",
        "outputId": "d023b0cf-c2e7-469e-91d3-ae354fdee5b8"
      },
      "execution_count": null,
      "outputs": [
        {
          "output_type": "stream",
          "name": "stdout",
          "text": [
            "✅ 적용된 폰트 이름: NanumGothic\n"
          ]
        }
      ]
    },
    {
      "cell_type": "code",
      "source": [
        "# 1. 라이브러리 불러오기\n",
        "import os\n",
        "import pandas as pd\n",
        "from wordcloud import WordCloud\n",
        "import matplotlib.pyplot as plt"
      ],
      "metadata": {
        "id": "nLC1xcyDtJFY"
      },
      "execution_count": null,
      "outputs": []
    },
    {
      "cell_type": "code",
      "source": [
        "base_path = \"/content\""
      ],
      "metadata": {
        "id": "AGFPVbM2tLuF"
      },
      "execution_count": null,
      "outputs": []
    },
    {
      "cell_type": "markdown",
      "source": [
        "### 클러스터별 워드 클라우드 생성"
      ],
      "metadata": {
        "id": "IyVlrvtxdC-Y"
      }
    },
    {
      "cell_type": "markdown",
      "source": [
        "불용어 설정"
      ],
      "metadata": {
        "id": "b1IInX3pdLAc"
      }
    },
    {
      "cell_type": "code",
      "source": [
        "custom_stopwords = set([\n",
        "    '일본', '日', '후쿠시마', '오염수', '방류', '원전', '정부',\n",
        "    '관련', '위해', '대한', '있다', '없다', '등', '또', '중', '그리고', '포토', '가', '최근', '고 했다', '수 있는', '이라고 말했다', '같은', '고 지적했다', '고', '등의', '지금', '이라고', '사설',\n",
        "    '의','에','은','는','이','가',\n",
        "    '로','으로','와','과','및','에서','에도',\n",
        "    '하고','도','만','중','대한','대해',\n",
        "    '기자','보도',\n",
        "    '공개','결정','발표','추진'\n",
        "    '회의','논의','발언','답변','질의',\n",
        "    '이번','최근','만에','첫','두번째',\n",
        "    '방출', '尹', '與', '野', '없어', '왜', '윤 대통령', '이재명', '것', '민주', '민주당'\n",
        "    ])\n"
      ],
      "metadata": {
        "id": "raENUmnZtQNU"
      },
      "execution_count": null,
      "outputs": []
    },
    {
      "cell_type": "markdown",
      "source": [
        "클러스터별 워드 클라우드 생성"
      ],
      "metadata": {
        "id": "RdwNE1sddZU1"
      }
    },
    {
      "cell_type": "code",
      "source": [
        "group_dict = {\n",
        "    \"조중동\": [\"중앙일보_최종.xlsx\", \"동아일보_최종.xlsx\", \"조선일보_최종.xlsx\"],\n",
        "    \"한한경\": [\"한겨레_최종.xlsx\", \"한국일보_최종.xlsx\", '경향신문_최종.xlsx'],\n",
        "    \"문국세\": [\"문화일보_최종.xlsx\", \"국민일보_최종.xlsx\", \"세계일보_최종.xlsx\"],\n",
        "    \"내아서\": [\"내일신문_최종.xlsx\", \"아시아투데이_최종.xlsx\", \"서울신문_최종.xlsx\"]\n",
        "}"
      ],
      "metadata": {
        "id": "EwFLpa3xtMlN"
      },
      "execution_count": null,
      "outputs": []
    },
    {
      "cell_type": "code",
      "source": [
        "import random\n",
        "from wordcloud import WordCloud\n",
        "import matplotlib.pyplot as plt\n",
        "import os\n",
        "import pandas as pd\n",
        "\n",
        "# ✅ 그룹별 색상 매핑 함수 정의\n",
        "def red_color_func(*args, **kwargs):\n",
        "    return f\"rgb({random.randint(180, 255)}, {random.randint(0, 80)}, {random.randint(0, 80)})\"\n",
        "\n",
        "def blue_color_func(*args, **kwargs):\n",
        "    return f\"rgb({random.randint(0, 80)}, {random.randint(100, 180)}, {random.randint(200, 255)})\"\n",
        "\n",
        "def pink_color_func(*args, **kwargs):\n",
        "    return f\"rgb({random.randint(230, 255)}, {random.randint(150, 200)}, {random.randint(180, 220)})\"\n",
        "\n",
        "def green_color_func(*args, **kwargs):\n",
        "    return f\"rgb({random.randint(0, 80)}, {random.randint(150, 255)}, {random.randint(0, 80)})\"\n",
        "\n",
        "# ✅ 그룹별 색상 함수 지정\n",
        "color_func_map = {\n",
        "    \"조중동\": red_color_func,\n",
        "    \"한한경\": blue_color_func,\n",
        "    \"문국세\": pink_color_func,\n",
        "    \"내아서\": green_color_func\n",
        "}\n",
        "\n",
        "# 저장 경로 생성\n",
        "save_path = os.path.join(base_path, \"group_wordclouds_colored\")\n",
        "os.makedirs(save_path, exist_ok=True)\n",
        "\n",
        "# 그룹별 워드클라우드 생성\n",
        "for group_name, files in group_dict.items():\n",
        "    all_titles = []\n",
        "\n",
        "    for file in files:\n",
        "        file_path = os.path.join(base_path, file)\n",
        "\n",
        "        try:\n",
        "            df = pd.read_excel(file_path)\n",
        "        except Exception as e:\n",
        "            print(f\"[{file}] 읽기 오류:\", e)\n",
        "            continue\n",
        "\n",
        "        # 제목 컬럼 자동 탐지\n",
        "        title_col = [col for col in df.columns if '제목' in col or 'title' in col.lower()]\n",
        "        if not title_col:\n",
        "            print(f\"[{file}] 제목 컬럼 없음\")\n",
        "            continue\n",
        "\n",
        "        titles = df[title_col[0]].dropna().astype(str).tolist()\n",
        "        all_titles.extend(titles)\n",
        "\n",
        "    if not all_titles:\n",
        "        print(f\"[{group_name}] 제목 없음\")\n",
        "        continue\n",
        "\n",
        "    # 하나의 문자열로 합치기\n",
        "    text = \" \".join(all_titles)\n",
        "\n",
        "    # 워드클라우드 생성\n",
        "    wc = WordCloud(\n",
        "        font_path='/usr/share/fonts/truetype/nanum/NanumGothic.ttf',\n",
        "        background_color='white',\n",
        "        width=800,\n",
        "        height=400,\n",
        "        stopwords=custom_stopwords\n",
        "    ).generate(text)\n",
        "\n",
        "    # 색상 함수 선택\n",
        "    color_func = color_func_map.get(group_name, None)\n",
        "\n",
        "    # 시각화 및 저장\n",
        "    plt.figure(figsize=(10, 5))\n",
        "    plt.imshow(wc.recolor(color_func=color_func), interpolation='bilinear')\n",
        "    plt.axis('off')\n",
        "    plt.title(f\"{group_name} 워드클라우드\")\n",
        "    plt.tight_layout()\n",
        "\n",
        "    save_file = os.path.join(save_path, f\"{group_name}_wordcloud.png\")\n",
        "    plt.savefig(save_file)\n",
        "    plt.close()\n",
        "\n",
        "    print(f\"✔️ {group_name} 워드클라우드 저장됨: {save_file}\")\n"
      ],
      "metadata": {
        "colab": {
          "base_uri": "https://localhost:8080/"
        },
        "id": "RRd1xYFEGZ-7",
        "outputId": "ebc1cb87-bb6a-4ea0-ac14-64ad86f9f9b8"
      },
      "execution_count": null,
      "outputs": [
        {
          "output_type": "stream",
          "name": "stdout",
          "text": [
            "✔️ 조중동 워드클라우드 저장됨: /content/group_wordclouds_colored/조중동_wordcloud.png\n",
            "✔️ 한한경 워드클라우드 저장됨: /content/group_wordclouds_colored/한한경_wordcloud.png\n",
            "✔️ 문국세 워드클라우드 저장됨: /content/group_wordclouds_colored/문국세_wordcloud.png\n",
            "✔️ 내아서 워드클라우드 저장됨: /content/group_wordclouds_colored/내아서_wordcloud.png\n"
          ]
        }
      ]
    }
  ]
}